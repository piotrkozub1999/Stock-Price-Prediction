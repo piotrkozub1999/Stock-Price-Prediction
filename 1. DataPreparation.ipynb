{
 "cells": [
  {
   "cell_type": "code",
   "execution_count": 19,
   "metadata": {
    "collapsed": true
   },
   "outputs": [],
   "source": [
    "import pandas as pd\n",
    "import numpy as np\n",
    "import tensorflow as tf\n",
    "from datetime import datetime\n",
    "from sklearn.preprocessing import MinMaxScaler\n",
    "from pickle import dump\n",
    "import warnings\n",
    "warnings.filterwarnings('ignore')"
   ]
  },
  {
   "cell_type": "code",
   "execution_count": 20,
   "outputs": [],
   "source": [
    "code = \"EURUSD\"\n",
    "PreparedDatasetPath = \"Datasets_with_Indicators/\"+code+\".csv\""
   ],
   "metadata": {
    "collapsed": false,
    "pycharm": {
     "name": "#%%\n"
    }
   }
  },
  {
   "cell_type": "code",
   "execution_count": 21,
   "outputs": [
    {
     "data": {
      "text/plain": "            Date     Open     High      Low    Close  ZigZag\n0     02.01.2000  1.00730  1.01410  1.00730  1.01370    0.00\n1     03.01.2000  1.01400  1.02780  1.00540  1.02620    0.00\n2     04.01.2000  1.02600  1.03400  1.02130  1.02920    0.00\n3     05.01.2000  1.02910  1.04020  1.02840  1.03230    0.00\n4     06.01.2000  1.03250  1.04150  1.02720  1.03050    1.04\n...          ...      ...      ...      ...      ...     ...\n7149  07.12.2022  1.04670  1.05493  1.04427  1.05114    0.00\n7150  08.12.2022  1.05115  1.05643  1.04892  1.05551    0.00\n7151  09.12.2022  1.05549  1.05878  1.05032  1.05325    0.00\n7152  11.12.2022  1.05286  1.05371  1.05176  1.05204    0.00\n7153  12.12.2022  1.05204  1.05795  1.05054  1.05407    0.00\n\n[7154 rows x 6 columns]",
      "text/html": "<div>\n<style scoped>\n    .dataframe tbody tr th:only-of-type {\n        vertical-align: middle;\n    }\n\n    .dataframe tbody tr th {\n        vertical-align: top;\n    }\n\n    .dataframe thead th {\n        text-align: right;\n    }\n</style>\n<table border=\"1\" class=\"dataframe\">\n  <thead>\n    <tr style=\"text-align: right;\">\n      <th></th>\n      <th>Date</th>\n      <th>Open</th>\n      <th>High</th>\n      <th>Low</th>\n      <th>Close</th>\n      <th>ZigZag</th>\n    </tr>\n  </thead>\n  <tbody>\n    <tr>\n      <th>0</th>\n      <td>02.01.2000</td>\n      <td>1.00730</td>\n      <td>1.01410</td>\n      <td>1.00730</td>\n      <td>1.01370</td>\n      <td>0.00</td>\n    </tr>\n    <tr>\n      <th>1</th>\n      <td>03.01.2000</td>\n      <td>1.01400</td>\n      <td>1.02780</td>\n      <td>1.00540</td>\n      <td>1.02620</td>\n      <td>0.00</td>\n    </tr>\n    <tr>\n      <th>2</th>\n      <td>04.01.2000</td>\n      <td>1.02600</td>\n      <td>1.03400</td>\n      <td>1.02130</td>\n      <td>1.02920</td>\n      <td>0.00</td>\n    </tr>\n    <tr>\n      <th>3</th>\n      <td>05.01.2000</td>\n      <td>1.02910</td>\n      <td>1.04020</td>\n      <td>1.02840</td>\n      <td>1.03230</td>\n      <td>0.00</td>\n    </tr>\n    <tr>\n      <th>4</th>\n      <td>06.01.2000</td>\n      <td>1.03250</td>\n      <td>1.04150</td>\n      <td>1.02720</td>\n      <td>1.03050</td>\n      <td>1.04</td>\n    </tr>\n    <tr>\n      <th>...</th>\n      <td>...</td>\n      <td>...</td>\n      <td>...</td>\n      <td>...</td>\n      <td>...</td>\n      <td>...</td>\n    </tr>\n    <tr>\n      <th>7149</th>\n      <td>07.12.2022</td>\n      <td>1.04670</td>\n      <td>1.05493</td>\n      <td>1.04427</td>\n      <td>1.05114</td>\n      <td>0.00</td>\n    </tr>\n    <tr>\n      <th>7150</th>\n      <td>08.12.2022</td>\n      <td>1.05115</td>\n      <td>1.05643</td>\n      <td>1.04892</td>\n      <td>1.05551</td>\n      <td>0.00</td>\n    </tr>\n    <tr>\n      <th>7151</th>\n      <td>09.12.2022</td>\n      <td>1.05549</td>\n      <td>1.05878</td>\n      <td>1.05032</td>\n      <td>1.05325</td>\n      <td>0.00</td>\n    </tr>\n    <tr>\n      <th>7152</th>\n      <td>11.12.2022</td>\n      <td>1.05286</td>\n      <td>1.05371</td>\n      <td>1.05176</td>\n      <td>1.05204</td>\n      <td>0.00</td>\n    </tr>\n    <tr>\n      <th>7153</th>\n      <td>12.12.2022</td>\n      <td>1.05204</td>\n      <td>1.05795</td>\n      <td>1.05054</td>\n      <td>1.05407</td>\n      <td>0.00</td>\n    </tr>\n  </tbody>\n</table>\n<p>7154 rows × 6 columns</p>\n</div>"
     },
     "execution_count": 21,
     "metadata": {},
     "output_type": "execute_result"
    }
   ],
   "source": [
    "dataframe = pd.read_csv(code+\"_DATASET.csv\", parse_dates=True)\n",
    "dataframe"
   ],
   "metadata": {
    "collapsed": false,
    "pycharm": {
     "name": "#%%\n"
    }
   }
  },
  {
   "cell_type": "code",
   "execution_count": 22,
   "outputs": [],
   "source": [
    "## Rising Trend => trend = True || 0\n",
    "## Downward Trend => trend = False || 1\n",
    "def checkTrend(df):\n",
    "    check = False\n",
    "    trend = False\n",
    "    i = 0\n",
    "    while not check:\n",
    "        if df.ZigZag[i] != 0 and i == 0:\n",
    "            if df.Close[i] < df.Close[i+1]:\n",
    "                trend = True\n",
    "            check = True\n",
    "        elif df.ZigZag[i] != 0 and i != 0:\n",
    "            if df.Close[i] > df.Close[0]:\n",
    "                trend = True\n",
    "            check = True\n",
    "        i+=1\n",
    "\n",
    "    return trend"
   ],
   "metadata": {
    "collapsed": false,
    "pycharm": {
     "name": "#%%\n"
    }
   }
  },
  {
   "cell_type": "code",
   "execution_count": 23,
   "outputs": [],
   "source": [
    "def changeZigZag(df, startingTrend):\n",
    "    i = 0\n",
    "    ## True => FirstBuy => 0\n",
    "    if startingTrend:\n",
    "        trend = 0\n",
    "    ## False => FirstSell => 1\n",
    "    else:\n",
    "        trend = 1\n",
    "\n",
    "    while i<len(df):\n",
    "        if df.ZigZag[i]!=0:\n",
    "            if trend==0:\n",
    "                trend=1\n",
    "            else:\n",
    "                trend=0\n",
    "        df.ZigZag[i] = trend\n",
    "        i+=1\n",
    "    return df"
   ],
   "metadata": {
    "collapsed": false,
    "pycharm": {
     "name": "#%%\n"
    }
   }
  },
  {
   "cell_type": "code",
   "execution_count": 24,
   "outputs": [],
   "source": [
    "def rsi(df, periods, ema):\n",
    "    \"\"\"\n",
    "    Returns a pd.Series with the relative strength index.\n",
    "    \"\"\"\n",
    "    close_delta = df['Close'].diff()\n",
    "\n",
    "    # Make two series: one for lower closes and one for higher closes\n",
    "    up = close_delta.clip(lower=0)\n",
    "    down = -1 * close_delta.clip(upper=0)\n",
    "\n",
    "    if ema == True:\n",
    "\t    # Use exponential moving average\n",
    "        ma_up = up.ewm(com = periods - 1, adjust=True, min_periods = periods).mean()\n",
    "        ma_down = down.ewm(com = periods - 1, adjust=True, min_periods = periods).mean()\n",
    "    else:\n",
    "        # Use simple moving average\n",
    "        ma_up = up.rolling(window = periods, adjust=False).mean()\n",
    "        ma_down = down.rolling(window = periods, adjust=False).mean()\n",
    "\n",
    "    rsi = ma_up / ma_down\n",
    "    rsi = 100 - (100/(1 + rsi))\n",
    "    return rsi"
   ],
   "metadata": {
    "collapsed": false,
    "pycharm": {
     "name": "#%%\n"
    }
   }
  },
  {
   "cell_type": "code",
   "execution_count": 25,
   "outputs": [
    {
     "data": {
      "text/plain": "            Date     Open     High      Low    Close  ZigZag\n0     02.01.2000  1.00730  1.01410  1.00730  1.01370       0\n1     03.01.2000  1.01400  1.02780  1.00540  1.02620       0\n2     04.01.2000  1.02600  1.03400  1.02130  1.02920       0\n3     05.01.2000  1.02910  1.04020  1.02840  1.03230       0\n4     06.01.2000  1.03250  1.04150  1.02720  1.03050       1\n...          ...      ...      ...      ...      ...     ...\n7149  07.12.2022  1.04670  1.05493  1.04427  1.05114       0\n7150  08.12.2022  1.05115  1.05643  1.04892  1.05551       0\n7151  09.12.2022  1.05549  1.05878  1.05032  1.05325       0\n7152  11.12.2022  1.05286  1.05371  1.05176  1.05204       0\n7153  12.12.2022  1.05204  1.05795  1.05054  1.05407       0\n\n[7154 rows x 6 columns]",
      "text/html": "<div>\n<style scoped>\n    .dataframe tbody tr th:only-of-type {\n        vertical-align: middle;\n    }\n\n    .dataframe tbody tr th {\n        vertical-align: top;\n    }\n\n    .dataframe thead th {\n        text-align: right;\n    }\n</style>\n<table border=\"1\" class=\"dataframe\">\n  <thead>\n    <tr style=\"text-align: right;\">\n      <th></th>\n      <th>Date</th>\n      <th>Open</th>\n      <th>High</th>\n      <th>Low</th>\n      <th>Close</th>\n      <th>ZigZag</th>\n    </tr>\n  </thead>\n  <tbody>\n    <tr>\n      <th>0</th>\n      <td>02.01.2000</td>\n      <td>1.00730</td>\n      <td>1.01410</td>\n      <td>1.00730</td>\n      <td>1.01370</td>\n      <td>0</td>\n    </tr>\n    <tr>\n      <th>1</th>\n      <td>03.01.2000</td>\n      <td>1.01400</td>\n      <td>1.02780</td>\n      <td>1.00540</td>\n      <td>1.02620</td>\n      <td>0</td>\n    </tr>\n    <tr>\n      <th>2</th>\n      <td>04.01.2000</td>\n      <td>1.02600</td>\n      <td>1.03400</td>\n      <td>1.02130</td>\n      <td>1.02920</td>\n      <td>0</td>\n    </tr>\n    <tr>\n      <th>3</th>\n      <td>05.01.2000</td>\n      <td>1.02910</td>\n      <td>1.04020</td>\n      <td>1.02840</td>\n      <td>1.03230</td>\n      <td>0</td>\n    </tr>\n    <tr>\n      <th>4</th>\n      <td>06.01.2000</td>\n      <td>1.03250</td>\n      <td>1.04150</td>\n      <td>1.02720</td>\n      <td>1.03050</td>\n      <td>1</td>\n    </tr>\n    <tr>\n      <th>...</th>\n      <td>...</td>\n      <td>...</td>\n      <td>...</td>\n      <td>...</td>\n      <td>...</td>\n      <td>...</td>\n    </tr>\n    <tr>\n      <th>7149</th>\n      <td>07.12.2022</td>\n      <td>1.04670</td>\n      <td>1.05493</td>\n      <td>1.04427</td>\n      <td>1.05114</td>\n      <td>0</td>\n    </tr>\n    <tr>\n      <th>7150</th>\n      <td>08.12.2022</td>\n      <td>1.05115</td>\n      <td>1.05643</td>\n      <td>1.04892</td>\n      <td>1.05551</td>\n      <td>0</td>\n    </tr>\n    <tr>\n      <th>7151</th>\n      <td>09.12.2022</td>\n      <td>1.05549</td>\n      <td>1.05878</td>\n      <td>1.05032</td>\n      <td>1.05325</td>\n      <td>0</td>\n    </tr>\n    <tr>\n      <th>7152</th>\n      <td>11.12.2022</td>\n      <td>1.05286</td>\n      <td>1.05371</td>\n      <td>1.05176</td>\n      <td>1.05204</td>\n      <td>0</td>\n    </tr>\n    <tr>\n      <th>7153</th>\n      <td>12.12.2022</td>\n      <td>1.05204</td>\n      <td>1.05795</td>\n      <td>1.05054</td>\n      <td>1.05407</td>\n      <td>0</td>\n    </tr>\n  </tbody>\n</table>\n<p>7154 rows × 6 columns</p>\n</div>"
     },
     "execution_count": 25,
     "metadata": {},
     "output_type": "execute_result"
    }
   ],
   "source": [
    "df = changeZigZag(dataframe.copy(), checkTrend(dataframe.copy()))\n",
    "df.ZigZag = df.ZigZag.astype('int')\n",
    "df"
   ],
   "metadata": {
    "collapsed": false,
    "pycharm": {
     "name": "#%%\n"
    }
   }
  },
  {
   "cell_type": "code",
   "execution_count": 26,
   "outputs": [
    {
     "data": {
      "text/plain": "            Date     Open     High      Low    Close  ZigZag  Return_rate  \\\n14    18.01.2000  1.01110  1.01550  1.00720  1.01400       1     1.002769   \n15    19.01.2000  1.01410  1.01650  1.00850  1.01170       1     0.997732   \n16    20.01.2000  1.01160  1.01880  1.00730  1.01690       1     1.005140   \n17    21.01.2000  1.01660  1.01930  1.00500  1.00870       1     0.991936   \n18    23.01.2000  1.00280  1.00450  1.00260  1.00430       1     0.995638   \n...          ...      ...      ...      ...      ...     ...          ...   \n7149  07.12.2022  1.04670  1.05493  1.04427  1.05114       0     1.004223   \n7150  08.12.2022  1.05115  1.05643  1.04892  1.05551       0     1.004157   \n7151  09.12.2022  1.05549  1.05878  1.05032  1.05325       0     0.997859   \n7152  11.12.2022  1.05286  1.05371  1.05176  1.05204       0     0.998851   \n7153  12.12.2022  1.05204  1.05795  1.05054  1.05407       0     1.001930   \n\n          RSI_7     RSI_14      MA_7     MA_14  \n14    36.106221  41.847381  1.019714  1.024307  \n15    32.411299  39.100201  1.016786  1.023271  \n16    46.777470  47.492823  1.014700  1.022393  \n17    33.627629  38.485863  1.012514  1.020707  \n18    28.595350  34.684738  1.011386  1.018836  \n...         ...        ...       ...       ...  \n7149  64.103095  64.267401  1.050111  1.043287  \n7150  69.392195  66.614241  1.052003  1.045037  \n7151  63.726914  64.263552  1.052074  1.045859  \n7152  60.634794  62.982086  1.051797  1.046666  \n7153  64.049088  64.269381  1.051760  1.047780  \n\n[7140 rows x 11 columns]",
      "text/html": "<div>\n<style scoped>\n    .dataframe tbody tr th:only-of-type {\n        vertical-align: middle;\n    }\n\n    .dataframe tbody tr th {\n        vertical-align: top;\n    }\n\n    .dataframe thead th {\n        text-align: right;\n    }\n</style>\n<table border=\"1\" class=\"dataframe\">\n  <thead>\n    <tr style=\"text-align: right;\">\n      <th></th>\n      <th>Date</th>\n      <th>Open</th>\n      <th>High</th>\n      <th>Low</th>\n      <th>Close</th>\n      <th>ZigZag</th>\n      <th>Return_rate</th>\n      <th>RSI_7</th>\n      <th>RSI_14</th>\n      <th>MA_7</th>\n      <th>MA_14</th>\n    </tr>\n  </thead>\n  <tbody>\n    <tr>\n      <th>14</th>\n      <td>18.01.2000</td>\n      <td>1.01110</td>\n      <td>1.01550</td>\n      <td>1.00720</td>\n      <td>1.01400</td>\n      <td>1</td>\n      <td>1.002769</td>\n      <td>36.106221</td>\n      <td>41.847381</td>\n      <td>1.019714</td>\n      <td>1.024307</td>\n    </tr>\n    <tr>\n      <th>15</th>\n      <td>19.01.2000</td>\n      <td>1.01410</td>\n      <td>1.01650</td>\n      <td>1.00850</td>\n      <td>1.01170</td>\n      <td>1</td>\n      <td>0.997732</td>\n      <td>32.411299</td>\n      <td>39.100201</td>\n      <td>1.016786</td>\n      <td>1.023271</td>\n    </tr>\n    <tr>\n      <th>16</th>\n      <td>20.01.2000</td>\n      <td>1.01160</td>\n      <td>1.01880</td>\n      <td>1.00730</td>\n      <td>1.01690</td>\n      <td>1</td>\n      <td>1.005140</td>\n      <td>46.777470</td>\n      <td>47.492823</td>\n      <td>1.014700</td>\n      <td>1.022393</td>\n    </tr>\n    <tr>\n      <th>17</th>\n      <td>21.01.2000</td>\n      <td>1.01660</td>\n      <td>1.01930</td>\n      <td>1.00500</td>\n      <td>1.00870</td>\n      <td>1</td>\n      <td>0.991936</td>\n      <td>33.627629</td>\n      <td>38.485863</td>\n      <td>1.012514</td>\n      <td>1.020707</td>\n    </tr>\n    <tr>\n      <th>18</th>\n      <td>23.01.2000</td>\n      <td>1.00280</td>\n      <td>1.00450</td>\n      <td>1.00260</td>\n      <td>1.00430</td>\n      <td>1</td>\n      <td>0.995638</td>\n      <td>28.595350</td>\n      <td>34.684738</td>\n      <td>1.011386</td>\n      <td>1.018836</td>\n    </tr>\n    <tr>\n      <th>...</th>\n      <td>...</td>\n      <td>...</td>\n      <td>...</td>\n      <td>...</td>\n      <td>...</td>\n      <td>...</td>\n      <td>...</td>\n      <td>...</td>\n      <td>...</td>\n      <td>...</td>\n      <td>...</td>\n    </tr>\n    <tr>\n      <th>7149</th>\n      <td>07.12.2022</td>\n      <td>1.04670</td>\n      <td>1.05493</td>\n      <td>1.04427</td>\n      <td>1.05114</td>\n      <td>0</td>\n      <td>1.004223</td>\n      <td>64.103095</td>\n      <td>64.267401</td>\n      <td>1.050111</td>\n      <td>1.043287</td>\n    </tr>\n    <tr>\n      <th>7150</th>\n      <td>08.12.2022</td>\n      <td>1.05115</td>\n      <td>1.05643</td>\n      <td>1.04892</td>\n      <td>1.05551</td>\n      <td>0</td>\n      <td>1.004157</td>\n      <td>69.392195</td>\n      <td>66.614241</td>\n      <td>1.052003</td>\n      <td>1.045037</td>\n    </tr>\n    <tr>\n      <th>7151</th>\n      <td>09.12.2022</td>\n      <td>1.05549</td>\n      <td>1.05878</td>\n      <td>1.05032</td>\n      <td>1.05325</td>\n      <td>0</td>\n      <td>0.997859</td>\n      <td>63.726914</td>\n      <td>64.263552</td>\n      <td>1.052074</td>\n      <td>1.045859</td>\n    </tr>\n    <tr>\n      <th>7152</th>\n      <td>11.12.2022</td>\n      <td>1.05286</td>\n      <td>1.05371</td>\n      <td>1.05176</td>\n      <td>1.05204</td>\n      <td>0</td>\n      <td>0.998851</td>\n      <td>60.634794</td>\n      <td>62.982086</td>\n      <td>1.051797</td>\n      <td>1.046666</td>\n    </tr>\n    <tr>\n      <th>7153</th>\n      <td>12.12.2022</td>\n      <td>1.05204</td>\n      <td>1.05795</td>\n      <td>1.05054</td>\n      <td>1.05407</td>\n      <td>0</td>\n      <td>1.001930</td>\n      <td>64.049088</td>\n      <td>64.269381</td>\n      <td>1.051760</td>\n      <td>1.047780</td>\n    </tr>\n  </tbody>\n</table>\n<p>7140 rows × 11 columns</p>\n</div>"
     },
     "execution_count": 26,
     "metadata": {},
     "output_type": "execute_result"
    }
   ],
   "source": [
    "df[\"Return_rate\"] = df[\"Close\"]/df[\"Close\"].shift(1)\n",
    "df[\"RSI_7\"] = rsi(df, 7, True)\n",
    "df[\"RSI_14\"] = rsi(df, 14, True)\n",
    "df['MA_7'] = df[\"Close\"].rolling(window=7).mean()\n",
    "df['MA_14'] = df[\"Close\"].rolling(window=14).mean()\n",
    "df = df.dropna()\n",
    "df"
   ],
   "metadata": {
    "collapsed": false,
    "pycharm": {
     "name": "#%%\n"
    }
   }
  },
  {
   "cell_type": "code",
   "execution_count": 27,
   "outputs": [],
   "source": [
    "df.to_csv(PreparedDatasetPath, index=False)"
   ],
   "metadata": {
    "collapsed": false,
    "pycharm": {
     "name": "#%%\n"
    }
   }
  }
 ],
 "metadata": {
  "kernelspec": {
   "display_name": "Python 3",
   "language": "python",
   "name": "python3"
  },
  "language_info": {
   "codemirror_mode": {
    "name": "ipython",
    "version": 2
   },
   "file_extension": ".py",
   "mimetype": "text/x-python",
   "name": "python",
   "nbconvert_exporter": "python",
   "pygments_lexer": "ipython2",
   "version": "2.7.6"
  }
 },
 "nbformat": 4,
 "nbformat_minor": 0
}