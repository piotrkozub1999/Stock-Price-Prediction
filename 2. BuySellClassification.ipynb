{
 "cells": [
  {
   "cell_type": "code",
   "execution_count": null,
   "outputs": [],
   "source": [
    "import pandas as pd\n",
    "import numpy as np\n",
    "import tensorflow as tf\n",
    "from sklearn.preprocessing import MinMaxScaler\n",
    "from pickle import dump\n",
    "import warnings\n",
    "import os\n",
    "from keras import models\n",
    "from keras.utils import plot_model\n",
    "from keras.layers import Dropout, Dense, GRU, LSTM, Flatten\n",
    "import matplotlib.pyplot as plt\n",
    "from Const import *\n",
    "warnings.filterwarnings('ignore')"
   ],
   "metadata": {
    "collapsed": false,
    "pycharm": {
     "name": "#%%\n"
    }
   }
  },
  {
   "cell_type": "code",
   "execution_count": 2,
   "metadata": {
    "pycharm": {
     "name": "#%%\n"
    }
   },
   "outputs": [],
   "source": [
    "### Setting simulation year and learning period\n",
    "SimulationYear = 2016\n",
    "Period = 10\n",
    "LearningYearStart = SimulationYear - Period + 1"
   ]
  },
  {
   "cell_type": "code",
   "execution_count": 3,
   "metadata": {
    "pycharm": {
     "name": "#%%\n"
    }
   },
   "outputs": [],
   "source": [
    "n_steps_in = 20\n",
    "n_steps_out = 1\n",
    "output_features = 2"
   ]
  },
  {
   "cell_type": "code",
   "execution_count": 4,
   "metadata": {
    "pycharm": {
     "name": "#%%\n"
    }
   },
   "outputs": [],
   "source": [
    "### Stock symbol\n",
    "code = SYMBOL\n",
    "### Prepared dataset with indicators\n",
    "PreparedDatasetPath = \"Datasets_with_Indicators/\"+code+\".csv\"\n",
    "### Dataset for backtesting simulation path\n",
    "SimulationDatasetPath = \"SimulationDatasets/Classification/\"+code+\"_\"+str(SimulationYear)+\".csv\"\n",
    "### Creating directory for learning data\n",
    "LearningDataPath = \"ClassificationData/\"+code+\"_\"+str(SimulationYear)+\"_\"+str(n_steps_in)+\"Days\"\n",
    "if not os.path.exists(LearningDataPath):\n",
    "   os.makedirs(LearningDataPath)"
   ]
  },
  {
   "cell_type": "code",
   "execution_count": 4,
   "metadata": {
    "pycharm": {
     "name": "#%%\n"
    }
   },
   "outputs": [],
   "source": []
  },
  {
   "cell_type": "code",
   "execution_count": 5,
   "metadata": {
    "pycharm": {
     "name": "#%%\n"
    }
   },
   "outputs": [],
   "source": [
    "# LR = 0.0005\n",
    "BATCH_SIZE = 100\n",
    "N_EPOCH = 22"
   ]
  },
  {
   "cell_type": "code",
   "execution_count": 6,
   "metadata": {
    "pycharm": {
     "name": "#%%\n"
    }
   },
   "outputs": [],
   "source": [
    "def get_simulation_data():\n",
    "    org_dataset = pd.read_csv(PreparedDatasetPath, parse_dates=True)\n",
    "    org_dataset.Date = pd.to_datetime(org_dataset.Date, dayfirst=True)\n",
    "    org_dataset = org_dataset.set_index(org_dataset.Date)\n",
    "    org_dataset = org_dataset.drop(\"ZigZag\", axis='columns')\n",
    "\n",
    "    org_dataset = org_dataset.drop(\"Return_rate\", axis='columns')\n",
    "    org_dataset = org_dataset.drop(\"RSI_7\", axis='columns')\n",
    "    org_dataset = org_dataset.drop(\"RSI_14\", axis='columns')\n",
    "    org_dataset = org_dataset.drop(\"MA_7\", axis='columns')\n",
    "    org_dataset = org_dataset.drop(\"MA_14\", axis='columns')\n",
    "\n",
    "    sim_dataset = org_dataset[str(SimulationYear)+\"-01-02\":str(SimulationYear)+\"-12-31\"]\n",
    "    sim_dataset = sim_dataset.reset_index(drop=True)\n",
    "    sim_dataset.to_csv(SimulationDatasetPath, index=False)\n",
    "\n",
    "    return sim_dataset, len(sim_dataset)"
   ]
  },
  {
   "cell_type": "markdown",
   "metadata": {
    "pycharm": {
     "name": "#%% md\n"
    }
   },
   "source": [
    "## 1. Przygotowanie danych"
   ]
  },
  {
   "cell_type": "code",
   "execution_count": 2115,
   "metadata": {
    "pycharm": {
     "name": "#%%\n"
    }
   },
   "outputs": [
    {
     "data": {
      "text/html": [
       "<div>\n",
       "<style scoped>\n",
       "    .dataframe tbody tr th:only-of-type {\n",
       "        vertical-align: middle;\n",
       "    }\n",
       "\n",
       "    .dataframe tbody tr th {\n",
       "        vertical-align: top;\n",
       "    }\n",
       "\n",
       "    .dataframe thead th {\n",
       "        text-align: right;\n",
       "    }\n",
       "</style>\n",
       "<table border=\"1\" class=\"dataframe\">\n",
       "  <thead>\n",
       "    <tr style=\"text-align: right;\">\n",
       "      <th></th>\n",
       "      <th>Open</th>\n",
       "      <th>High</th>\n",
       "      <th>Low</th>\n",
       "      <th>Close</th>\n",
       "      <th>ZigZag</th>\n",
       "      <th>Return_rate</th>\n",
       "      <th>RSI_7</th>\n",
       "      <th>RSI_14</th>\n",
       "      <th>MA_7</th>\n",
       "      <th>MA_14</th>\n",
       "    </tr>\n",
       "    <tr>\n",
       "      <th>Date</th>\n",
       "      <th></th>\n",
       "      <th></th>\n",
       "      <th></th>\n",
       "      <th></th>\n",
       "      <th></th>\n",
       "      <th></th>\n",
       "      <th></th>\n",
       "      <th></th>\n",
       "      <th></th>\n",
       "      <th></th>\n",
       "    </tr>\n",
       "  </thead>\n",
       "  <tbody>\n",
       "    <tr>\n",
       "      <th>2000-01-18</th>\n",
       "      <td>1.01110</td>\n",
       "      <td>1.01550</td>\n",
       "      <td>1.00720</td>\n",
       "      <td>1.01400</td>\n",
       "      <td>1</td>\n",
       "      <td>1.002769</td>\n",
       "      <td>36.106221</td>\n",
       "      <td>41.847381</td>\n",
       "      <td>1.019714</td>\n",
       "      <td>1.024307</td>\n",
       "    </tr>\n",
       "    <tr>\n",
       "      <th>2000-01-19</th>\n",
       "      <td>1.01410</td>\n",
       "      <td>1.01650</td>\n",
       "      <td>1.00850</td>\n",
       "      <td>1.01170</td>\n",
       "      <td>1</td>\n",
       "      <td>0.997732</td>\n",
       "      <td>32.411299</td>\n",
       "      <td>39.100201</td>\n",
       "      <td>1.016786</td>\n",
       "      <td>1.023271</td>\n",
       "    </tr>\n",
       "    <tr>\n",
       "      <th>2000-01-20</th>\n",
       "      <td>1.01160</td>\n",
       "      <td>1.01880</td>\n",
       "      <td>1.00730</td>\n",
       "      <td>1.01690</td>\n",
       "      <td>1</td>\n",
       "      <td>1.005140</td>\n",
       "      <td>46.777470</td>\n",
       "      <td>47.492823</td>\n",
       "      <td>1.014700</td>\n",
       "      <td>1.022393</td>\n",
       "    </tr>\n",
       "    <tr>\n",
       "      <th>2000-01-21</th>\n",
       "      <td>1.01660</td>\n",
       "      <td>1.01930</td>\n",
       "      <td>1.00500</td>\n",
       "      <td>1.00870</td>\n",
       "      <td>1</td>\n",
       "      <td>0.991936</td>\n",
       "      <td>33.627629</td>\n",
       "      <td>38.485863</td>\n",
       "      <td>1.012514</td>\n",
       "      <td>1.020707</td>\n",
       "    </tr>\n",
       "    <tr>\n",
       "      <th>2000-01-23</th>\n",
       "      <td>1.00280</td>\n",
       "      <td>1.00450</td>\n",
       "      <td>1.00260</td>\n",
       "      <td>1.00430</td>\n",
       "      <td>1</td>\n",
       "      <td>0.995638</td>\n",
       "      <td>28.595350</td>\n",
       "      <td>34.684738</td>\n",
       "      <td>1.011386</td>\n",
       "      <td>1.018836</td>\n",
       "    </tr>\n",
       "    <tr>\n",
       "      <th>...</th>\n",
       "      <td>...</td>\n",
       "      <td>...</td>\n",
       "      <td>...</td>\n",
       "      <td>...</td>\n",
       "      <td>...</td>\n",
       "      <td>...</td>\n",
       "      <td>...</td>\n",
       "      <td>...</td>\n",
       "      <td>...</td>\n",
       "      <td>...</td>\n",
       "    </tr>\n",
       "    <tr>\n",
       "      <th>2022-12-07</th>\n",
       "      <td>1.04670</td>\n",
       "      <td>1.05493</td>\n",
       "      <td>1.04427</td>\n",
       "      <td>1.05114</td>\n",
       "      <td>0</td>\n",
       "      <td>1.004223</td>\n",
       "      <td>64.103095</td>\n",
       "      <td>64.267401</td>\n",
       "      <td>1.050111</td>\n",
       "      <td>1.043287</td>\n",
       "    </tr>\n",
       "    <tr>\n",
       "      <th>2022-12-08</th>\n",
       "      <td>1.05115</td>\n",
       "      <td>1.05643</td>\n",
       "      <td>1.04892</td>\n",
       "      <td>1.05551</td>\n",
       "      <td>0</td>\n",
       "      <td>1.004157</td>\n",
       "      <td>69.392195</td>\n",
       "      <td>66.614241</td>\n",
       "      <td>1.052003</td>\n",
       "      <td>1.045037</td>\n",
       "    </tr>\n",
       "    <tr>\n",
       "      <th>2022-12-09</th>\n",
       "      <td>1.05549</td>\n",
       "      <td>1.05878</td>\n",
       "      <td>1.05032</td>\n",
       "      <td>1.05325</td>\n",
       "      <td>0</td>\n",
       "      <td>0.997859</td>\n",
       "      <td>63.726914</td>\n",
       "      <td>64.263552</td>\n",
       "      <td>1.052074</td>\n",
       "      <td>1.045859</td>\n",
       "    </tr>\n",
       "    <tr>\n",
       "      <th>2022-12-11</th>\n",
       "      <td>1.05286</td>\n",
       "      <td>1.05371</td>\n",
       "      <td>1.05176</td>\n",
       "      <td>1.05204</td>\n",
       "      <td>0</td>\n",
       "      <td>0.998851</td>\n",
       "      <td>60.634794</td>\n",
       "      <td>62.982086</td>\n",
       "      <td>1.051797</td>\n",
       "      <td>1.046666</td>\n",
       "    </tr>\n",
       "    <tr>\n",
       "      <th>2022-12-12</th>\n",
       "      <td>1.05204</td>\n",
       "      <td>1.05795</td>\n",
       "      <td>1.05054</td>\n",
       "      <td>1.05407</td>\n",
       "      <td>0</td>\n",
       "      <td>1.001930</td>\n",
       "      <td>64.049088</td>\n",
       "      <td>64.269381</td>\n",
       "      <td>1.051760</td>\n",
       "      <td>1.047780</td>\n",
       "    </tr>\n",
       "  </tbody>\n",
       "</table>\n",
       "<p>7140 rows × 10 columns</p>\n",
       "</div>"
      ],
      "text/plain": [
       "               Open     High      Low    Close  ZigZag  Return_rate  \\\n",
       "Date                                                                  \n",
       "2000-01-18  1.01110  1.01550  1.00720  1.01400       1     1.002769   \n",
       "2000-01-19  1.01410  1.01650  1.00850  1.01170       1     0.997732   \n",
       "2000-01-20  1.01160  1.01880  1.00730  1.01690       1     1.005140   \n",
       "2000-01-21  1.01660  1.01930  1.00500  1.00870       1     0.991936   \n",
       "2000-01-23  1.00280  1.00450  1.00260  1.00430       1     0.995638   \n",
       "...             ...      ...      ...      ...     ...          ...   \n",
       "2022-12-07  1.04670  1.05493  1.04427  1.05114       0     1.004223   \n",
       "2022-12-08  1.05115  1.05643  1.04892  1.05551       0     1.004157   \n",
       "2022-12-09  1.05549  1.05878  1.05032  1.05325       0     0.997859   \n",
       "2022-12-11  1.05286  1.05371  1.05176  1.05204       0     0.998851   \n",
       "2022-12-12  1.05204  1.05795  1.05054  1.05407       0     1.001930   \n",
       "\n",
       "                RSI_7     RSI_14      MA_7     MA_14  \n",
       "Date                                                  \n",
       "2000-01-18  36.106221  41.847381  1.019714  1.024307  \n",
       "2000-01-19  32.411299  39.100201  1.016786  1.023271  \n",
       "2000-01-20  46.777470  47.492823  1.014700  1.022393  \n",
       "2000-01-21  33.627629  38.485863  1.012514  1.020707  \n",
       "2000-01-23  28.595350  34.684738  1.011386  1.018836  \n",
       "...               ...        ...       ...       ...  \n",
       "2022-12-07  64.103095  64.267401  1.050111  1.043287  \n",
       "2022-12-08  69.392195  66.614241  1.052003  1.045037  \n",
       "2022-12-09  63.726914  64.263552  1.052074  1.045859  \n",
       "2022-12-11  60.634794  62.982086  1.051797  1.046666  \n",
       "2022-12-12  64.049088  64.269381  1.051760  1.047780  \n",
       "\n",
       "[7140 rows x 10 columns]"
      ]
     },
     "execution_count": 2115,
     "metadata": {},
     "output_type": "execute_result"
    }
   ],
   "source": [
    "dataset = pd.read_csv(PreparedDatasetPath, parse_dates=True)\n",
    "dataset.Date = pd.to_datetime(dataset.Date, dayfirst=True)\n",
    "dataset = dataset.set_index(dataset.Date)\n",
    "dataset = dataset.drop(\"Date\", axis='columns')\n",
    "dataset"
   ]
  },
  {
   "cell_type": "code",
   "execution_count": 2116,
   "metadata": {
    "pycharm": {
     "name": "#%%\n"
    }
   },
   "outputs": [
    {
     "data": {
      "text/html": [
       "<div>\n",
       "<style scoped>\n",
       "    .dataframe tbody tr th:only-of-type {\n",
       "        vertical-align: middle;\n",
       "    }\n",
       "\n",
       "    .dataframe tbody tr th {\n",
       "        vertical-align: top;\n",
       "    }\n",
       "\n",
       "    .dataframe thead th {\n",
       "        text-align: right;\n",
       "    }\n",
       "</style>\n",
       "<table border=\"1\" class=\"dataframe\">\n",
       "  <thead>\n",
       "    <tr style=\"text-align: right;\">\n",
       "      <th></th>\n",
       "      <th>Open</th>\n",
       "      <th>High</th>\n",
       "      <th>Low</th>\n",
       "      <th>Close</th>\n",
       "      <th>ZigZag</th>\n",
       "      <th>Return_rate</th>\n",
       "      <th>RSI_7</th>\n",
       "      <th>RSI_14</th>\n",
       "      <th>MA_7</th>\n",
       "      <th>MA_14</th>\n",
       "    </tr>\n",
       "    <tr>\n",
       "      <th>Date</th>\n",
       "      <th></th>\n",
       "      <th></th>\n",
       "      <th></th>\n",
       "      <th></th>\n",
       "      <th></th>\n",
       "      <th></th>\n",
       "      <th></th>\n",
       "      <th></th>\n",
       "      <th></th>\n",
       "      <th></th>\n",
       "    </tr>\n",
       "  </thead>\n",
       "  <tbody>\n",
       "    <tr>\n",
       "      <th>2007-01-02</th>\n",
       "      <td>1.32330</td>\n",
       "      <td>1.32960</td>\n",
       "      <td>1.32210</td>\n",
       "      <td>1.32790</td>\n",
       "      <td>1</td>\n",
       "      <td>1.003628</td>\n",
       "      <td>72.303596</td>\n",
       "      <td>63.224289</td>\n",
       "      <td>1.318029</td>\n",
       "      <td>1.316493</td>\n",
       "    </tr>\n",
       "    <tr>\n",
       "      <th>2007-01-03</th>\n",
       "      <td>1.32800</td>\n",
       "      <td>1.32890</td>\n",
       "      <td>1.31460</td>\n",
       "      <td>1.31630</td>\n",
       "      <td>1</td>\n",
       "      <td>0.991264</td>\n",
       "      <td>46.514110</td>\n",
       "      <td>50.903553</td>\n",
       "      <td>1.318729</td>\n",
       "      <td>1.317000</td>\n",
       "    </tr>\n",
       "    <tr>\n",
       "      <th>2007-01-04</th>\n",
       "      <td>1.31640</td>\n",
       "      <td>1.31790</td>\n",
       "      <td>1.30750</td>\n",
       "      <td>1.30780</td>\n",
       "      <td>1</td>\n",
       "      <td>0.993543</td>\n",
       "      <td>35.645093</td>\n",
       "      <td>44.118963</td>\n",
       "      <td>1.318243</td>\n",
       "      <td>1.316829</td>\n",
       "    </tr>\n",
       "    <tr>\n",
       "      <th>2007-01-05</th>\n",
       "      <td>1.30770</td>\n",
       "      <td>1.31040</td>\n",
       "      <td>1.29800</td>\n",
       "      <td>1.30010</td>\n",
       "      <td>1</td>\n",
       "      <td>0.994112</td>\n",
       "      <td>28.585627</td>\n",
       "      <td>39.042413</td>\n",
       "      <td>1.316271</td>\n",
       "      <td>1.315236</td>\n",
       "    </tr>\n",
       "    <tr>\n",
       "      <th>2007-01-07</th>\n",
       "      <td>1.30100</td>\n",
       "      <td>1.30100</td>\n",
       "      <td>1.29840</td>\n",
       "      <td>1.29920</td>\n",
       "      <td>1</td>\n",
       "      <td>0.999308</td>\n",
       "      <td>27.833926</td>\n",
       "      <td>38.485008</td>\n",
       "      <td>1.313329</td>\n",
       "      <td>1.313871</td>\n",
       "    </tr>\n",
       "    <tr>\n",
       "      <th>...</th>\n",
       "      <td>...</td>\n",
       "      <td>...</td>\n",
       "      <td>...</td>\n",
       "      <td>...</td>\n",
       "      <td>...</td>\n",
       "      <td>...</td>\n",
       "      <td>...</td>\n",
       "      <td>...</td>\n",
       "      <td>...</td>\n",
       "      <td>...</td>\n",
       "    </tr>\n",
       "    <tr>\n",
       "      <th>2016-12-26</th>\n",
       "      <td>1.04520</td>\n",
       "      <td>1.04673</td>\n",
       "      <td>1.04396</td>\n",
       "      <td>1.04533</td>\n",
       "      <td>0</td>\n",
       "      <td>1.000144</td>\n",
       "      <td>42.639925</td>\n",
       "      <td>39.124576</td>\n",
       "      <td>1.043017</td>\n",
       "      <td>1.047456</td>\n",
       "    </tr>\n",
       "    <tr>\n",
       "      <th>2016-12-27</th>\n",
       "      <td>1.04534</td>\n",
       "      <td>1.04630</td>\n",
       "      <td>1.04319</td>\n",
       "      <td>1.04612</td>\n",
       "      <td>0</td>\n",
       "      <td>1.000756</td>\n",
       "      <td>45.369273</td>\n",
       "      <td>40.152547</td>\n",
       "      <td>1.043859</td>\n",
       "      <td>1.046855</td>\n",
       "    </tr>\n",
       "    <tr>\n",
       "      <th>2016-12-28</th>\n",
       "      <td>1.04601</td>\n",
       "      <td>1.04793</td>\n",
       "      <td>1.03717</td>\n",
       "      <td>1.04138</td>\n",
       "      <td>0</td>\n",
       "      <td>0.995469</td>\n",
       "      <td>34.033448</td>\n",
       "      <td>36.202408</td>\n",
       "      <td>1.044194</td>\n",
       "      <td>1.045226</td>\n",
       "    </tr>\n",
       "    <tr>\n",
       "      <th>2016-12-29</th>\n",
       "      <td>1.04139</td>\n",
       "      <td>1.06522</td>\n",
       "      <td>1.04136</td>\n",
       "      <td>1.05649</td>\n",
       "      <td>1</td>\n",
       "      <td>1.014510</td>\n",
       "      <td>65.806835</td>\n",
       "      <td>52.309080</td>\n",
       "      <td>1.046179</td>\n",
       "      <td>1.044781</td>\n",
       "    </tr>\n",
       "    <tr>\n",
       "      <th>2016-12-30</th>\n",
       "      <td>1.05652</td>\n",
       "      <td>1.05910</td>\n",
       "      <td>1.05053</td>\n",
       "      <td>1.05187</td>\n",
       "      <td>1</td>\n",
       "      <td>0.995627</td>\n",
       "      <td>56.157985</td>\n",
       "      <td>48.294319</td>\n",
       "      <td>1.047340</td>\n",
       "      <td>1.044832</td>\n",
       "    </tr>\n",
       "  </tbody>\n",
       "</table>\n",
       "<p>3114 rows × 10 columns</p>\n",
       "</div>"
      ],
      "text/plain": [
       "               Open     High      Low    Close  ZigZag  Return_rate  \\\n",
       "Date                                                                  \n",
       "2007-01-02  1.32330  1.32960  1.32210  1.32790       1     1.003628   \n",
       "2007-01-03  1.32800  1.32890  1.31460  1.31630       1     0.991264   \n",
       "2007-01-04  1.31640  1.31790  1.30750  1.30780       1     0.993543   \n",
       "2007-01-05  1.30770  1.31040  1.29800  1.30010       1     0.994112   \n",
       "2007-01-07  1.30100  1.30100  1.29840  1.29920       1     0.999308   \n",
       "...             ...      ...      ...      ...     ...          ...   \n",
       "2016-12-26  1.04520  1.04673  1.04396  1.04533       0     1.000144   \n",
       "2016-12-27  1.04534  1.04630  1.04319  1.04612       0     1.000756   \n",
       "2016-12-28  1.04601  1.04793  1.03717  1.04138       0     0.995469   \n",
       "2016-12-29  1.04139  1.06522  1.04136  1.05649       1     1.014510   \n",
       "2016-12-30  1.05652  1.05910  1.05053  1.05187       1     0.995627   \n",
       "\n",
       "                RSI_7     RSI_14      MA_7     MA_14  \n",
       "Date                                                  \n",
       "2007-01-02  72.303596  63.224289  1.318029  1.316493  \n",
       "2007-01-03  46.514110  50.903553  1.318729  1.317000  \n",
       "2007-01-04  35.645093  44.118963  1.318243  1.316829  \n",
       "2007-01-05  28.585627  39.042413  1.316271  1.315236  \n",
       "2007-01-07  27.833926  38.485008  1.313329  1.313871  \n",
       "...               ...        ...       ...       ...  \n",
       "2016-12-26  42.639925  39.124576  1.043017  1.047456  \n",
       "2016-12-27  45.369273  40.152547  1.043859  1.046855  \n",
       "2016-12-28  34.033448  36.202408  1.044194  1.045226  \n",
       "2016-12-29  65.806835  52.309080  1.046179  1.044781  \n",
       "2016-12-30  56.157985  48.294319  1.047340  1.044832  \n",
       "\n",
       "[3114 rows x 10 columns]"
      ]
     },
     "execution_count": 2116,
     "metadata": {},
     "output_type": "execute_result"
    }
   ],
   "source": [
    "dataset = dataset[str(LearningYearStart)+\"-01-02\":str(SimulationYear)+\"-12-31\"]\n",
    "dataset"
   ]
  },
  {
   "cell_type": "code",
   "execution_count": 2117,
   "metadata": {
    "pycharm": {
     "name": "#%%\n"
    }
   },
   "outputs": [
    {
     "data": {
      "text/html": [
       "<div>\n",
       "<style scoped>\n",
       "    .dataframe tbody tr th:only-of-type {\n",
       "        vertical-align: middle;\n",
       "    }\n",
       "\n",
       "    .dataframe tbody tr th {\n",
       "        vertical-align: top;\n",
       "    }\n",
       "\n",
       "    .dataframe thead th {\n",
       "        text-align: right;\n",
       "    }\n",
       "</style>\n",
       "<table border=\"1\" class=\"dataframe\">\n",
       "  <thead>\n",
       "    <tr style=\"text-align: right;\">\n",
       "      <th></th>\n",
       "      <th>Date</th>\n",
       "      <th>Open</th>\n",
       "      <th>High</th>\n",
       "      <th>Low</th>\n",
       "      <th>Close</th>\n",
       "    </tr>\n",
       "  </thead>\n",
       "  <tbody>\n",
       "    <tr>\n",
       "      <th>0</th>\n",
       "      <td>2016-01-03</td>\n",
       "      <td>1.08549</td>\n",
       "      <td>1.08595</td>\n",
       "      <td>1.08440</td>\n",
       "      <td>1.08516</td>\n",
       "    </tr>\n",
       "    <tr>\n",
       "      <th>1</th>\n",
       "      <td>2016-01-04</td>\n",
       "      <td>1.08516</td>\n",
       "      <td>1.09462</td>\n",
       "      <td>1.07811</td>\n",
       "      <td>1.08232</td>\n",
       "    </tr>\n",
       "    <tr>\n",
       "      <th>2</th>\n",
       "      <td>2016-01-05</td>\n",
       "      <td>1.08230</td>\n",
       "      <td>1.08386</td>\n",
       "      <td>1.07102</td>\n",
       "      <td>1.07501</td>\n",
       "    </tr>\n",
       "    <tr>\n",
       "      <th>3</th>\n",
       "      <td>2016-01-06</td>\n",
       "      <td>1.07500</td>\n",
       "      <td>1.07992</td>\n",
       "      <td>1.07143</td>\n",
       "      <td>1.07764</td>\n",
       "    </tr>\n",
       "    <tr>\n",
       "      <th>4</th>\n",
       "      <td>2016-01-07</td>\n",
       "      <td>1.07765</td>\n",
       "      <td>1.09394</td>\n",
       "      <td>1.07701</td>\n",
       "      <td>1.09255</td>\n",
       "    </tr>\n",
       "    <tr>\n",
       "      <th>...</th>\n",
       "      <td>...</td>\n",
       "      <td>...</td>\n",
       "      <td>...</td>\n",
       "      <td>...</td>\n",
       "      <td>...</td>\n",
       "    </tr>\n",
       "    <tr>\n",
       "      <th>305</th>\n",
       "      <td>2016-12-26</td>\n",
       "      <td>1.04520</td>\n",
       "      <td>1.04673</td>\n",
       "      <td>1.04396</td>\n",
       "      <td>1.04533</td>\n",
       "    </tr>\n",
       "    <tr>\n",
       "      <th>306</th>\n",
       "      <td>2016-12-27</td>\n",
       "      <td>1.04534</td>\n",
       "      <td>1.04630</td>\n",
       "      <td>1.04319</td>\n",
       "      <td>1.04612</td>\n",
       "    </tr>\n",
       "    <tr>\n",
       "      <th>307</th>\n",
       "      <td>2016-12-28</td>\n",
       "      <td>1.04601</td>\n",
       "      <td>1.04793</td>\n",
       "      <td>1.03717</td>\n",
       "      <td>1.04138</td>\n",
       "    </tr>\n",
       "    <tr>\n",
       "      <th>308</th>\n",
       "      <td>2016-12-29</td>\n",
       "      <td>1.04139</td>\n",
       "      <td>1.06522</td>\n",
       "      <td>1.04136</td>\n",
       "      <td>1.05649</td>\n",
       "    </tr>\n",
       "    <tr>\n",
       "      <th>309</th>\n",
       "      <td>2016-12-30</td>\n",
       "      <td>1.05652</td>\n",
       "      <td>1.05910</td>\n",
       "      <td>1.05053</td>\n",
       "      <td>1.05187</td>\n",
       "    </tr>\n",
       "  </tbody>\n",
       "</table>\n",
       "<p>310 rows × 5 columns</p>\n",
       "</div>"
      ],
      "text/plain": [
       "          Date     Open     High      Low    Close\n",
       "0   2016-01-03  1.08549  1.08595  1.08440  1.08516\n",
       "1   2016-01-04  1.08516  1.09462  1.07811  1.08232\n",
       "2   2016-01-05  1.08230  1.08386  1.07102  1.07501\n",
       "3   2016-01-06  1.07500  1.07992  1.07143  1.07764\n",
       "4   2016-01-07  1.07765  1.09394  1.07701  1.09255\n",
       "..         ...      ...      ...      ...      ...\n",
       "305 2016-12-26  1.04520  1.04673  1.04396  1.04533\n",
       "306 2016-12-27  1.04534  1.04630  1.04319  1.04612\n",
       "307 2016-12-28  1.04601  1.04793  1.03717  1.04138\n",
       "308 2016-12-29  1.04139  1.06522  1.04136  1.05649\n",
       "309 2016-12-30  1.05652  1.05910  1.05053  1.05187\n",
       "\n",
       "[310 rows x 5 columns]"
      ]
     },
     "execution_count": 2117,
     "metadata": {},
     "output_type": "execute_result"
    }
   ],
   "source": [
    "sim_dataset, TestLength= get_simulation_data()\n",
    "sim_dataset"
   ]
  },
  {
   "cell_type": "code",
   "execution_count": 2118,
   "metadata": {
    "pycharm": {
     "name": "#%%\n"
    }
   },
   "outputs": [],
   "source": [
    "X_value = pd.DataFrame(dataset.iloc[:, :])\n",
    "X_value = X_value.drop(\"ZigZag\", axis='columns')\n",
    "y_value = pd.DataFrame(dataset.ZigZag)"
   ]
  },
  {
   "cell_type": "code",
   "execution_count": 2119,
   "metadata": {
    "pycharm": {
     "name": "#%%\n"
    }
   },
   "outputs": [
    {
     "name": "stdout",
     "output_type": "stream",
     "text": [
      "9\n"
     ]
    }
   ],
   "source": [
    "n_features = X_value.shape[1]\n",
    "print(n_features)"
   ]
  },
  {
   "cell_type": "code",
   "execution_count": 2120,
   "metadata": {
    "pycharm": {
     "name": "#%%\n"
    }
   },
   "outputs": [
    {
     "data": {
      "text/html": [
       "<div>\n",
       "<style scoped>\n",
       "    .dataframe tbody tr th:only-of-type {\n",
       "        vertical-align: middle;\n",
       "    }\n",
       "\n",
       "    .dataframe tbody tr th {\n",
       "        vertical-align: top;\n",
       "    }\n",
       "\n",
       "    .dataframe thead th {\n",
       "        text-align: right;\n",
       "    }\n",
       "</style>\n",
       "<table border=\"1\" class=\"dataframe\">\n",
       "  <thead>\n",
       "    <tr style=\"text-align: right;\">\n",
       "      <th></th>\n",
       "      <th>Open</th>\n",
       "      <th>High</th>\n",
       "      <th>Low</th>\n",
       "      <th>Close</th>\n",
       "      <th>Return_rate</th>\n",
       "      <th>RSI_7</th>\n",
       "      <th>RSI_14</th>\n",
       "      <th>MA_7</th>\n",
       "      <th>MA_14</th>\n",
       "    </tr>\n",
       "    <tr>\n",
       "      <th>Date</th>\n",
       "      <th></th>\n",
       "      <th></th>\n",
       "      <th></th>\n",
       "      <th></th>\n",
       "      <th></th>\n",
       "      <th></th>\n",
       "      <th></th>\n",
       "      <th></th>\n",
       "      <th></th>\n",
       "    </tr>\n",
       "  </thead>\n",
       "  <tbody>\n",
       "    <tr>\n",
       "      <th>2007-01-02</th>\n",
       "      <td>1.32330</td>\n",
       "      <td>1.32960</td>\n",
       "      <td>1.32210</td>\n",
       "      <td>1.32790</td>\n",
       "      <td>1.003628</td>\n",
       "      <td>72.303596</td>\n",
       "      <td>63.224289</td>\n",
       "      <td>1.318029</td>\n",
       "      <td>1.316493</td>\n",
       "    </tr>\n",
       "    <tr>\n",
       "      <th>2007-01-03</th>\n",
       "      <td>1.32800</td>\n",
       "      <td>1.32890</td>\n",
       "      <td>1.31460</td>\n",
       "      <td>1.31630</td>\n",
       "      <td>0.991264</td>\n",
       "      <td>46.514110</td>\n",
       "      <td>50.903553</td>\n",
       "      <td>1.318729</td>\n",
       "      <td>1.317000</td>\n",
       "    </tr>\n",
       "    <tr>\n",
       "      <th>2007-01-04</th>\n",
       "      <td>1.31640</td>\n",
       "      <td>1.31790</td>\n",
       "      <td>1.30750</td>\n",
       "      <td>1.30780</td>\n",
       "      <td>0.993543</td>\n",
       "      <td>35.645093</td>\n",
       "      <td>44.118963</td>\n",
       "      <td>1.318243</td>\n",
       "      <td>1.316829</td>\n",
       "    </tr>\n",
       "    <tr>\n",
       "      <th>2007-01-05</th>\n",
       "      <td>1.30770</td>\n",
       "      <td>1.31040</td>\n",
       "      <td>1.29800</td>\n",
       "      <td>1.30010</td>\n",
       "      <td>0.994112</td>\n",
       "      <td>28.585627</td>\n",
       "      <td>39.042413</td>\n",
       "      <td>1.316271</td>\n",
       "      <td>1.315236</td>\n",
       "    </tr>\n",
       "    <tr>\n",
       "      <th>2007-01-07</th>\n",
       "      <td>1.30100</td>\n",
       "      <td>1.30100</td>\n",
       "      <td>1.29840</td>\n",
       "      <td>1.29920</td>\n",
       "      <td>0.999308</td>\n",
       "      <td>27.833926</td>\n",
       "      <td>38.485008</td>\n",
       "      <td>1.313329</td>\n",
       "      <td>1.313871</td>\n",
       "    </tr>\n",
       "    <tr>\n",
       "      <th>...</th>\n",
       "      <td>...</td>\n",
       "      <td>...</td>\n",
       "      <td>...</td>\n",
       "      <td>...</td>\n",
       "      <td>...</td>\n",
       "      <td>...</td>\n",
       "      <td>...</td>\n",
       "      <td>...</td>\n",
       "      <td>...</td>\n",
       "    </tr>\n",
       "    <tr>\n",
       "      <th>2016-12-26</th>\n",
       "      <td>1.04520</td>\n",
       "      <td>1.04673</td>\n",
       "      <td>1.04396</td>\n",
       "      <td>1.04533</td>\n",
       "      <td>1.000144</td>\n",
       "      <td>42.639925</td>\n",
       "      <td>39.124576</td>\n",
       "      <td>1.043017</td>\n",
       "      <td>1.047456</td>\n",
       "    </tr>\n",
       "    <tr>\n",
       "      <th>2016-12-27</th>\n",
       "      <td>1.04534</td>\n",
       "      <td>1.04630</td>\n",
       "      <td>1.04319</td>\n",
       "      <td>1.04612</td>\n",
       "      <td>1.000756</td>\n",
       "      <td>45.369273</td>\n",
       "      <td>40.152547</td>\n",
       "      <td>1.043859</td>\n",
       "      <td>1.046855</td>\n",
       "    </tr>\n",
       "    <tr>\n",
       "      <th>2016-12-28</th>\n",
       "      <td>1.04601</td>\n",
       "      <td>1.04793</td>\n",
       "      <td>1.03717</td>\n",
       "      <td>1.04138</td>\n",
       "      <td>0.995469</td>\n",
       "      <td>34.033448</td>\n",
       "      <td>36.202408</td>\n",
       "      <td>1.044194</td>\n",
       "      <td>1.045226</td>\n",
       "    </tr>\n",
       "    <tr>\n",
       "      <th>2016-12-29</th>\n",
       "      <td>1.04139</td>\n",
       "      <td>1.06522</td>\n",
       "      <td>1.04136</td>\n",
       "      <td>1.05649</td>\n",
       "      <td>1.014510</td>\n",
       "      <td>65.806835</td>\n",
       "      <td>52.309080</td>\n",
       "      <td>1.046179</td>\n",
       "      <td>1.044781</td>\n",
       "    </tr>\n",
       "    <tr>\n",
       "      <th>2016-12-30</th>\n",
       "      <td>1.05652</td>\n",
       "      <td>1.05910</td>\n",
       "      <td>1.05053</td>\n",
       "      <td>1.05187</td>\n",
       "      <td>0.995627</td>\n",
       "      <td>56.157985</td>\n",
       "      <td>48.294319</td>\n",
       "      <td>1.047340</td>\n",
       "      <td>1.044832</td>\n",
       "    </tr>\n",
       "  </tbody>\n",
       "</table>\n",
       "<p>3114 rows × 9 columns</p>\n",
       "</div>"
      ],
      "text/plain": [
       "               Open     High      Low    Close  Return_rate      RSI_7  \\\n",
       "Date                                                                     \n",
       "2007-01-02  1.32330  1.32960  1.32210  1.32790     1.003628  72.303596   \n",
       "2007-01-03  1.32800  1.32890  1.31460  1.31630     0.991264  46.514110   \n",
       "2007-01-04  1.31640  1.31790  1.30750  1.30780     0.993543  35.645093   \n",
       "2007-01-05  1.30770  1.31040  1.29800  1.30010     0.994112  28.585627   \n",
       "2007-01-07  1.30100  1.30100  1.29840  1.29920     0.999308  27.833926   \n",
       "...             ...      ...      ...      ...          ...        ...   \n",
       "2016-12-26  1.04520  1.04673  1.04396  1.04533     1.000144  42.639925   \n",
       "2016-12-27  1.04534  1.04630  1.04319  1.04612     1.000756  45.369273   \n",
       "2016-12-28  1.04601  1.04793  1.03717  1.04138     0.995469  34.033448   \n",
       "2016-12-29  1.04139  1.06522  1.04136  1.05649     1.014510  65.806835   \n",
       "2016-12-30  1.05652  1.05910  1.05053  1.05187     0.995627  56.157985   \n",
       "\n",
       "               RSI_14      MA_7     MA_14  \n",
       "Date                                       \n",
       "2007-01-02  63.224289  1.318029  1.316493  \n",
       "2007-01-03  50.903553  1.318729  1.317000  \n",
       "2007-01-04  44.118963  1.318243  1.316829  \n",
       "2007-01-05  39.042413  1.316271  1.315236  \n",
       "2007-01-07  38.485008  1.313329  1.313871  \n",
       "...               ...       ...       ...  \n",
       "2016-12-26  39.124576  1.043017  1.047456  \n",
       "2016-12-27  40.152547  1.043859  1.046855  \n",
       "2016-12-28  36.202408  1.044194  1.045226  \n",
       "2016-12-29  52.309080  1.046179  1.044781  \n",
       "2016-12-30  48.294319  1.047340  1.044832  \n",
       "\n",
       "[3114 rows x 9 columns]"
      ]
     },
     "execution_count": 2120,
     "metadata": {},
     "output_type": "execute_result"
    }
   ],
   "source": [
    "X_value"
   ]
  },
  {
   "cell_type": "code",
   "execution_count": 2121,
   "metadata": {
    "pycharm": {
     "name": "#%%\n"
    }
   },
   "outputs": [],
   "source": [
    "y_value = tf.keras.utils.to_categorical(y_value)"
   ]
  },
  {
   "cell_type": "code",
   "execution_count": 2122,
   "metadata": {
    "pycharm": {
     "name": "#%%\n"
    }
   },
   "outputs": [
    {
     "data": {
      "text/plain": [
       "array([[0., 1.],\n",
       "       [0., 1.],\n",
       "       [0., 1.],\n",
       "       ...,\n",
       "       [1., 0.],\n",
       "       [0., 1.],\n",
       "       [0., 1.]], dtype=float32)"
      ]
     },
     "execution_count": 2122,
     "metadata": {},
     "output_type": "execute_result"
    }
   ],
   "source": [
    "y_value"
   ]
  },
  {
   "cell_type": "code",
   "execution_count": 2123,
   "metadata": {
    "pycharm": {
     "name": "#%%\n"
    }
   },
   "outputs": [],
   "source": [
    "# Normalized the data\n",
    "X_scaler = MinMaxScaler(feature_range=(-1, 1))\n",
    "X_scaler.fit(X_value)\n",
    "X_scale_dataset = X_scaler.fit_transform(X_value)\n",
    "dump(X_scaler, open(LearningDataPath+\"/X_scaler.pkl\", \"wb\"))"
   ]
  },
  {
   "cell_type": "code",
   "execution_count": 2124,
   "metadata": {
    "pycharm": {
     "name": "#%%\n"
    }
   },
   "outputs": [],
   "source": [
    "def get_X_y(X_data, y_data):\n",
    "    X = list()\n",
    "    y = list()\n",
    "\n",
    "    length = len(X_data)\n",
    "    for i in range(0, length-n_steps_in, 1):\n",
    "        X_value = X_data[i: i + n_steps_in][:, :]\n",
    "        # y_value = y_data[i + n_steps_in: i + (n_steps_in + n_steps_out)][:, :]\n",
    "        y_value = y_data[i + n_steps_in]\n",
    "        if len(X_value) == n_steps_in and len(y_value) == output_features:\n",
    "            X.append(X_value)\n",
    "            y.append(y_value)\n",
    "\n",
    "    return np.array(X), np.array(y)"
   ]
  },
  {
   "cell_type": "code",
   "execution_count": 2125,
   "metadata": {
    "pycharm": {
     "name": "#%%\n"
    }
   },
   "outputs": [],
   "source": [
    "def predict_index(dataset, X_train, n_steps_in, n_steps_out):\n",
    "\n",
    "    train_predict_index = dataset.iloc[n_steps_in : X_train.shape[0] + n_steps_in + n_steps_out - 1, :].index\n",
    "    test_predict_index = dataset.iloc[X_train.shape[0] + n_steps_in:, :].index\n",
    "\n",
    "    return train_predict_index, test_predict_index"
   ]
  },
  {
   "cell_type": "code",
   "execution_count": 2126,
   "metadata": {
    "pycharm": {
     "name": "#%%\n"
    }
   },
   "outputs": [],
   "source": [
    "def split_train_test(data):\n",
    "    train_size = len(X) - TestLength\n",
    "    data_train = data[0:train_size]\n",
    "    data_test = data[train_size:]\n",
    "    return data_train, data_test"
   ]
  },
  {
   "cell_type": "code",
   "execution_count": 2127,
   "metadata": {
    "pycharm": {
     "name": "#%%\n"
    }
   },
   "outputs": [
    {
     "name": "stdout",
     "output_type": "stream",
     "text": [
      "X shape:  (3094, 20, 9)\n",
      "y shape:  (3094, 2)\n",
      "X_train shape:  (2784, 20, 9)\n",
      "y_train shape:  (2784, 2)\n",
      "X_test shape:  (310, 20, 9)\n",
      "y_test shape:  (310, 2)\n",
      "index_train shape: (2784,)\n",
      "index_test shape: (310,)\n"
     ]
    }
   ],
   "source": [
    "X, y = get_X_y(X_scale_dataset, y_value)\n",
    "X_train, X_test, = split_train_test(X)\n",
    "y_train, y_test, = split_train_test(y)\n",
    "train_predict_index, test_predict_index, = predict_index(dataset, X_train, n_steps_in, n_steps_out)\n",
    "print('X shape: ', X.shape)\n",
    "print('y shape: ', y.shape)\n",
    "print('X_train shape: ', X_train.shape)\n",
    "print('y_train shape: ', y_train.shape)\n",
    "print('X_test shape: ', X_test.shape)\n",
    "print('y_test shape: ', y_test.shape)\n",
    "print('index_train shape:', train_predict_index.shape)\n",
    "print('index_test shape:', test_predict_index.shape)"
   ]
  },
  {
   "cell_type": "code",
   "execution_count": 2128,
   "metadata": {
    "pycharm": {
     "name": "#%%\n"
    }
   },
   "outputs": [
    {
     "data": {
      "text/plain": [
       "DatetimeIndex(['2007-01-25', '2007-01-26', '2007-01-28', '2007-01-29',\n",
       "               '2007-01-30', '2007-01-31', '2007-02-01', '2007-02-02',\n",
       "               '2007-02-04', '2007-02-05',\n",
       "               ...\n",
       "               '2015-12-20', '2015-12-21', '2015-12-22', '2015-12-23',\n",
       "               '2015-12-24', '2015-12-27', '2015-12-28', '2015-12-29',\n",
       "               '2015-12-30', '2015-12-31'],\n",
       "              dtype='datetime64[ns]', name='Date', length=2784, freq=None)"
      ]
     },
     "execution_count": 2128,
     "metadata": {},
     "output_type": "execute_result"
    }
   ],
   "source": [
    "train_predict_index"
   ]
  },
  {
   "cell_type": "code",
   "execution_count": 2129,
   "metadata": {
    "pycharm": {
     "name": "#%%\n"
    }
   },
   "outputs": [
    {
     "data": {
      "text/plain": [
       "DatetimeIndex(['2016-01-03', '2016-01-04', '2016-01-05', '2016-01-06',\n",
       "               '2016-01-07', '2016-01-08', '2016-01-10', '2016-01-11',\n",
       "               '2016-01-12', '2016-01-13',\n",
       "               ...\n",
       "               '2016-12-20', '2016-12-21', '2016-12-22', '2016-12-23',\n",
       "               '2016-12-25', '2016-12-26', '2016-12-27', '2016-12-28',\n",
       "               '2016-12-29', '2016-12-30'],\n",
       "              dtype='datetime64[ns]', name='Date', length=310, freq=None)"
      ]
     },
     "execution_count": 2129,
     "metadata": {},
     "output_type": "execute_result"
    }
   ],
   "source": [
    "test_predict_index"
   ]
  },
  {
   "cell_type": "code",
   "execution_count": 2130,
   "metadata": {
    "pycharm": {
     "name": "#%%\n"
    }
   },
   "outputs": [],
   "source": [
    "np.save(LearningDataPath+\"/X_train.npy\", X_train)\n",
    "np.save(LearningDataPath+\"/y_train.npy\", y_train)\n",
    "np.save(LearningDataPath+\"/X_test.npy\", X_test)\n",
    "np.save(LearningDataPath+\"/y_test.npy\", y_test)\n",
    "np.save(LearningDataPath+\"/train_predict_index.npy\", train_predict_index)\n",
    "np.save(LearningDataPath+\"/test_predict_index.npy\", test_predict_index)"
   ]
  },
  {
   "cell_type": "markdown",
   "metadata": {
    "pycharm": {
     "name": "#%% md\n"
    }
   },
   "source": [
    "## LSTM"
   ]
  },
  {
   "cell_type": "code",
   "execution_count": 2131,
   "metadata": {
    "pycharm": {
     "name": "#%%\n"
    }
   },
   "outputs": [],
   "source": [
    "# Load data\n",
    "X_train = np.load(LearningDataPath+\"/X_train.npy\", allow_pickle=True)\n",
    "y_train = np.load(LearningDataPath+\"/y_train.npy\", allow_pickle=True)\n",
    "X_test = np.load(LearningDataPath+\"/X_test.npy\", allow_pickle=True)\n",
    "y_test = np.load(LearningDataPath+\"/y_test.npy\", allow_pickle=True)"
   ]
  },
  {
   "cell_type": "code",
   "execution_count": 2132,
   "metadata": {
    "pycharm": {
     "name": "#%%\n"
    }
   },
   "outputs": [],
   "source": [
    "input_dim = X_train.shape[1]     # 7\n",
    "input_feature_size = X_train.shape[2]  # 5\n",
    "output_dim = y_train.shape[1]    # 1"
   ]
  },
  {
   "cell_type": "code",
   "execution_count": 2133,
   "metadata": {
    "pycharm": {
     "name": "#%%\n"
    }
   },
   "outputs": [
    {
     "name": "stdout",
     "output_type": "stream",
     "text": [
      "2\n"
     ]
    }
   ],
   "source": [
    "print(output_dim)"
   ]
  },
  {
   "cell_type": "code",
   "execution_count": 2134,
   "metadata": {
    "pycharm": {
     "name": "#%%\n"
    }
   },
   "outputs": [
    {
     "data": {
      "text/plain": [
       "array([[0., 1.],\n",
       "       [1., 0.],\n",
       "       [1., 0.],\n",
       "       ...,\n",
       "       [0., 1.],\n",
       "       [0., 1.],\n",
       "       [0., 1.]], dtype=float32)"
      ]
     },
     "execution_count": 2134,
     "metadata": {},
     "output_type": "execute_result"
    }
   ],
   "source": [
    "y_train"
   ]
  },
  {
   "cell_type": "code",
   "execution_count": 2135,
   "metadata": {
    "pycharm": {
     "name": "#%%\n"
    }
   },
   "outputs": [],
   "source": [
    "# ## 61.92% ###\n",
    "#\n",
    "# # def basic_LSTM(input_dim, output_dim, input_feature_size):\n",
    "# #     model = models.Sequential()\n",
    "# #     model.add(LSTM(units=63, return_sequences=True, activation='relu', input_shape=(input_dim, input_feature_size)))\n",
    "# #     model.add(Dropout(0.2))\n",
    "# #     model.add(LSTM(250, return_sequences=False))\n",
    "# #     model.add(Dropout(0.2))\n",
    "# #     model.add(Dense(output_dim, activation='softmax'))\n",
    "# #\n",
    "# #     model.compile(optimizer='adam',\n",
    "# #               loss='categorical_crossentropy',\n",
    "# #               metrics=['accuracy'])\n",
    "# #     history = model.fit(X_train, y_train, epochs=N_EPOCH, batch_size=BATCH_SIZE, verbose=2, shuffle=False)\n",
    "# #\n",
    "# #     return model, history"
   ]
  },
  {
   "cell_type": "code",
   "execution_count": 2136,
   "metadata": {
    "pycharm": {
     "name": "#%%\n"
    }
   },
   "outputs": [],
   "source": [
    "# # def basic_LSTM(input_dim, output_dim, input_feature_size):\n",
    "# #     model = models.Sequential()\n",
    "# #     model.add(LSTM(units=50, return_sequences=True, input_shape=(input_dim, input_feature_size)))\n",
    "# #     # model.add(Dropout(0.20))\n",
    "# #     model.add(LSTM(40, return_sequences=False))\n",
    "# #     model.add(Dropout(0.20))\n",
    "# #     model.add(Dense(output_dim, activation='softmax'))\n",
    "# #\n",
    "# #     model.compile(optimizer='adam',\n",
    "# #               loss='categorical_crossentropy',\n",
    "# #               metrics=['accuracy'])\n",
    "# #     history = model.fit(X_train, y_train, epochs=N_EPOCH, batch_size=BATCH_SIZE, verbose=2, shuffle=False)\n",
    "# #\n",
    "# #     return model, history"
   ]
  },
  {
   "cell_type": "code",
   "execution_count": 2137,
   "metadata": {
    "pycharm": {
     "name": "#%%\n"
    }
   },
   "outputs": [],
   "source": [
    "def basic_LSTM(input_dim, output_dim, input_feature_size):\n",
    "    model = models.Sequential()\n",
    "    model.add(LSTM(units=64, return_sequences=True, \n",
    "                   input_shape=(input_dim, input_feature_size)))\n",
    "    model.add(LSTM(units=32))\n",
    "    model.add(Dropout(0.2))\n",
    "    model.add(Dense(output_dim, activation='softmax'))\n",
    "    \n",
    "    model.compile(optimizer='adam',\n",
    "              loss='categorical_crossentropy',\n",
    "              metrics=['accuracy'])\n",
    "\n",
    "    history = model.fit(X_train, y_train, epochs=N_EPOCH, batch_size=BATCH_SIZE, validation_data=(X_test, y_test),\n",
    "                        verbose=2, shuffle=False)\n",
    "\n",
    "    return model, history"
   ]
  },
  {
   "cell_type": "code",
   "execution_count": 2138,
   "metadata": {
    "pycharm": {
     "name": "#%%\n"
    }
   },
   "outputs": [
    {
     "name": "stdout",
     "output_type": "stream",
     "text": [
      "You must install pydot (`pip install pydot`) and install graphviz (see instructions at https://graphviz.gitlab.io/download/) for plot_model to work.\n",
      "Epoch 1/22\n",
      "28/28 - 5s - loss: 0.6948 - accuracy: 0.5205 - val_loss: 0.7108 - val_accuracy: 0.5065 - 5s/epoch - 173ms/step\n",
      "Epoch 2/22\n",
      "28/28 - 1s - loss: 0.6756 - accuracy: 0.5851 - val_loss: 0.7227 - val_accuracy: 0.4484 - 525ms/epoch - 19ms/step\n",
      "Epoch 3/22\n",
      "28/28 - 1s - loss: 0.6658 - accuracy: 0.6049 - val_loss: 0.7065 - val_accuracy: 0.4581 - 529ms/epoch - 19ms/step\n",
      "Epoch 4/22\n",
      "28/28 - 1s - loss: 0.6554 - accuracy: 0.6225 - val_loss: 0.7035 - val_accuracy: 0.4871 - 531ms/epoch - 19ms/step\n",
      "Epoch 5/22\n",
      "28/28 - 0s - loss: 0.6464 - accuracy: 0.6462 - val_loss: 0.6995 - val_accuracy: 0.4806 - 495ms/epoch - 18ms/step\n",
      "Epoch 6/22\n",
      "28/28 - 1s - loss: 0.6389 - accuracy: 0.6548 - val_loss: 0.6840 - val_accuracy: 0.5194 - 546ms/epoch - 19ms/step\n",
      "Epoch 7/22\n",
      "28/28 - 1s - loss: 0.6292 - accuracy: 0.6674 - val_loss: 0.6722 - val_accuracy: 0.5258 - 562ms/epoch - 20ms/step\n",
      "Epoch 8/22\n",
      "28/28 - 1s - loss: 0.6221 - accuracy: 0.6652 - val_loss: 0.6606 - val_accuracy: 0.5710 - 603ms/epoch - 22ms/step\n",
      "Epoch 9/22\n",
      "28/28 - 1s - loss: 0.6160 - accuracy: 0.6731 - val_loss: 0.6497 - val_accuracy: 0.5935 - 520ms/epoch - 19ms/step\n",
      "Epoch 10/22\n",
      "28/28 - 1s - loss: 0.6110 - accuracy: 0.6764 - val_loss: 0.6448 - val_accuracy: 0.6097 - 509ms/epoch - 18ms/step\n",
      "Epoch 11/22\n",
      "28/28 - 1s - loss: 0.6063 - accuracy: 0.6897 - val_loss: 0.6407 - val_accuracy: 0.6226 - 514ms/epoch - 18ms/step\n",
      "Epoch 12/22\n",
      "28/28 - 1s - loss: 0.6055 - accuracy: 0.6774 - val_loss: 0.6495 - val_accuracy: 0.5935 - 502ms/epoch - 18ms/step\n",
      "Epoch 13/22\n",
      "28/28 - 0s - loss: 0.6061 - accuracy: 0.6864 - val_loss: 0.6340 - val_accuracy: 0.6226 - 491ms/epoch - 18ms/step\n",
      "Epoch 14/22\n",
      "28/28 - 0s - loss: 0.5969 - accuracy: 0.6929 - val_loss: 0.6231 - val_accuracy: 0.6452 - 492ms/epoch - 18ms/step\n",
      "Epoch 15/22\n",
      "28/28 - 0s - loss: 0.6016 - accuracy: 0.6918 - val_loss: 0.6319 - val_accuracy: 0.6290 - 495ms/epoch - 18ms/step\n",
      "Epoch 16/22\n",
      "28/28 - 0s - loss: 0.5973 - accuracy: 0.6900 - val_loss: 0.6194 - val_accuracy: 0.6677 - 496ms/epoch - 18ms/step\n",
      "Epoch 17/22\n",
      "28/28 - 0s - loss: 0.5996 - accuracy: 0.6997 - val_loss: 0.6517 - val_accuracy: 0.5903 - 494ms/epoch - 18ms/step\n",
      "Epoch 18/22\n",
      "28/28 - 0s - loss: 0.5929 - accuracy: 0.6983 - val_loss: 0.6333 - val_accuracy: 0.6484 - 489ms/epoch - 17ms/step\n",
      "Epoch 19/22\n",
      "28/28 - 0s - loss: 0.5911 - accuracy: 0.6986 - val_loss: 0.6236 - val_accuracy: 0.6484 - 499ms/epoch - 18ms/step\n",
      "Epoch 20/22\n",
      "28/28 - 0s - loss: 0.5931 - accuracy: 0.7008 - val_loss: 0.6104 - val_accuracy: 0.6484 - 489ms/epoch - 17ms/step\n",
      "Epoch 21/22\n",
      "28/28 - 1s - loss: 0.5917 - accuracy: 0.7022 - val_loss: 0.6187 - val_accuracy: 0.6484 - 513ms/epoch - 18ms/step\n",
      "Epoch 22/22\n",
      "28/28 - 0s - loss: 0.5893 - accuracy: 0.6990 - val_loss: 0.6085 - val_accuracy: 0.6677 - 495ms/epoch - 18ms/step\n",
      "You must install pydot (`pip install pydot`) and install graphviz (see instructions at https://graphviz.gitlab.io/download/) for plot_model to work.\n",
      "Model: \"sequential_91\"\n",
      "_________________________________________________________________\n",
      " Layer (type)                Output Shape              Param #   \n",
      "=================================================================\n",
      " lstm_132 (LSTM)             (None, 20, 64)            18944     \n",
      "                                                                 \n",
      " lstm_133 (LSTM)             (None, 32)                12416     \n",
      "                                                                 \n",
      " dropout_91 (Dropout)        (None, 32)                0         \n",
      "                                                                 \n",
      " dense_91 (Dense)            (None, 2)                 66        \n",
      "                                                                 \n",
      "=================================================================\n",
      "Total params: 31,426\n",
      "Trainable params: 31,426\n",
      "Non-trainable params: 0\n",
      "_________________________________________________________________\n",
      "None\n"
     ]
    }
   ],
   "source": [
    "model, history = basic_LSTM(input_dim, output_dim, input_feature_size)\n",
    "plot_model(model, to_file='Figures/Others/LSTM_Model.png')\n",
    "print(model.summary())"
   ]
  },
  {
   "cell_type": "code",
   "execution_count": 2139,
   "metadata": {
    "pycharm": {
     "name": "#%%\n"
    }
   },
   "outputs": [
    {
     "data": {
      "image/png": "[encoded data removed]",
      "text/plain": [
       "<Figure size 640x480 with 1 Axes>"
      ]
     },
     "metadata": {},
     "output_type": "display_data"
    }
   ],
   "source": [
    "plt.plot(history.history[\"accuracy\"], label=\"train\")\n",
    "plt.plot(history.history[\"val_accuracy\"], label=\"test\")\n",
    "plt.title(\"Skuteczność - LSTM\")\n",
    "plt.xlabel(\"Epoch\")\n",
    "plt.ylabel(\"Skuteczność\")\n",
    "plt.xticks(np.arange(0, N_EPOCH, step=5))\n",
    "plt.yticks(np.arange(0, 1, step=0.1))\n",
    "plt.legend()\n",
    "plt.show()"
   ]
  },
  {
   "cell_type": "code",
   "execution_count": 2140,
   "metadata": {
    "pycharm": {
     "name": "#%%\n"
    }
   },
   "outputs": [
    {
     "name": "stdout",
     "output_type": "stream",
     "text": [
      "10/10 [==============================] - 0s 5ms/step - loss: 0.6085 - accuracy: 0.6677\n",
      "Test loss: 0.6084579825401306\n",
      "Test accuracy: 0.6677419543266296\n"
     ]
    }
   ],
   "source": [
    "score = model.evaluate(X_test, y_test)\n",
    "print('Test loss:', score[0])\n",
    "print('Test accuracy:', score[1])"
   ]
  },
  {
   "cell_type": "code",
   "execution_count": 2141,
   "metadata": {
    "pycharm": {
     "name": "#%%\n"
    }
   },
   "outputs": [
    {
     "name": "stdout",
     "output_type": "stream",
     "text": [
      "Maksymalna skuteczność to: 66.77%\n"
     ]
    }
   ],
   "source": [
    "print(\"Maksymalna skuteczność to: {:.2f}%\".format((max(history.history[\"val_accuracy\"])*100)))"
   ]
  },
  {
   "cell_type": "code",
   "execution_count": 2142,
   "metadata": {
    "pycharm": {
     "name": "#%%\n"
    }
   },
   "outputs": [],
   "source": [
    "model.save(LearningDataPath+\"/LSTM_\"+str(n_steps_in)+\"Days.h5\")\n",
    "model.save(LearningDataPath+\"/LSTM_\"+str(n_steps_in)+\"Days\"+str(round(score[1]*100))+\"p.h5\")"
   ]
  },
  {
   "cell_type": "markdown",
   "metadata": {
    "pycharm": {
     "name": "#%% md\n"
    }
   },
   "source": [
    "## GRU"
   ]
  },
  {
   "cell_type": "code",
   "execution_count": 7,
   "metadata": {
    "pycharm": {
     "name": "#%%\n"
    }
   },
   "outputs": [],
   "source": [
    "# Load data\n",
    "X_train = np.load(LearningDataPath+\"/X_train.npy\", allow_pickle=True)\n",
    "y_train = np.load(LearningDataPath+\"/y_train.npy\", allow_pickle=True)\n",
    "X_test = np.load(LearningDataPath+\"/X_test.npy\", allow_pickle=True)\n",
    "y_test = np.load(LearningDataPath+\"/y_test.npy\", allow_pickle=True)"
   ]
  },
  {
   "cell_type": "code",
   "execution_count": 8,
   "metadata": {
    "pycharm": {
     "name": "#%%\n"
    }
   },
   "outputs": [],
   "source": [
    "input_dim = X_train.shape[1]     # 7\n",
    "input_feature_size = X_train.shape[2]  # 5\n",
    "output_dim = y_train.shape[1]    # 1"
   ]
  },
  {
   "cell_type": "code",
   "execution_count": 9,
   "metadata": {
    "pycharm": {
     "name": "#%%\n"
    }
   },
   "outputs": [],
   "source": [
    "def basic_GRU(input_dim, output_dim, input_feature_size):\n",
    "    model = models.Sequential()\n",
    "    model.add(GRU(units=64, return_sequences=True, input_shape=(input_dim, input_feature_size)))\n",
    "    model.add(GRU(units=32))\n",
    "    model.add(Dropout(0.2))\n",
    "    model.add(Dense(output_dim, activation='softmax'))\n",
    "    plot_model(model, to_file='Figures/Others/GRU_Model.png')\n",
    "\n",
    "    model.compile(optimizer='adam',\n",
    "                  loss='categorical_crossentropy',\n",
    "                  metrics=['accuracy'])\n",
    "\n",
    "    history = model.fit(X_train, y_train, epochs=N_EPOCH, batch_size=BATCH_SIZE, verbose=2,\n",
    "                        shuffle=False, validation_data=(X_test, y_test))\n",
    "\n",
    "\n",
    "    return model, history"
   ]
  },
  {
   "cell_type": "code",
   "execution_count": 10,
   "metadata": {
    "pycharm": {
     "name": "#%%\n"
    }
   },
   "outputs": [
    {
     "name": "stdout",
     "output_type": "stream",
     "text": [
      "You must install pydot (`pip install pydot`) and install graphviz (see instructions at https://graphviz.gitlab.io/download/) for plot_model to work.\n",
      "Epoch 1/22\n",
      "28/28 - 5s - loss: 0.6701 - accuracy: 0.6128 - val_loss: 0.7089 - val_accuracy: 0.4935 - 5s/epoch - 177ms/step\n",
      "Epoch 2/22\n",
      "28/28 - 0s - loss: 0.6427 - accuracy: 0.6451 - val_loss: 0.7121 - val_accuracy: 0.5226 - 448ms/epoch - 16ms/step\n",
      "Epoch 3/22\n",
      "28/28 - 0s - loss: 0.6270 - accuracy: 0.6688 - val_loss: 0.6793 - val_accuracy: 0.5516 - 448ms/epoch - 16ms/step\n",
      "Epoch 4/22\n",
      "28/28 - 0s - loss: 0.6127 - accuracy: 0.6868 - val_loss: 0.6679 - val_accuracy: 0.5645 - 490ms/epoch - 17ms/step\n",
      "Epoch 5/22\n",
      "28/28 - 0s - loss: 0.6015 - accuracy: 0.6983 - val_loss: 0.6485 - val_accuracy: 0.6000 - 435ms/epoch - 16ms/step\n",
      "Epoch 6/22\n",
      "28/28 - 0s - loss: 0.5979 - accuracy: 0.6976 - val_loss: 0.6427 - val_accuracy: 0.6129 - 455ms/epoch - 16ms/step\n",
      "Epoch 7/22\n",
      "28/28 - 0s - loss: 0.5963 - accuracy: 0.6997 - val_loss: 0.6357 - val_accuracy: 0.6258 - 451ms/epoch - 16ms/step\n",
      "Epoch 8/22\n",
      "28/28 - 0s - loss: 0.5938 - accuracy: 0.7026 - val_loss: 0.6371 - val_accuracy: 0.6226 - 468ms/epoch - 17ms/step\n",
      "Epoch 9/22\n",
      "28/28 - 0s - loss: 0.5918 - accuracy: 0.7051 - val_loss: 0.6298 - val_accuracy: 0.6323 - 449ms/epoch - 16ms/step\n",
      "Epoch 10/22\n",
      "28/28 - 0s - loss: 0.5928 - accuracy: 0.6990 - val_loss: 0.6321 - val_accuracy: 0.6290 - 445ms/epoch - 16ms/step\n",
      "Epoch 11/22\n",
      "28/28 - 0s - loss: 0.5923 - accuracy: 0.7033 - val_loss: 0.6269 - val_accuracy: 0.6355 - 450ms/epoch - 16ms/step\n",
      "Epoch 12/22\n",
      "28/28 - 0s - loss: 0.5902 - accuracy: 0.7022 - val_loss: 0.6236 - val_accuracy: 0.6258 - 466ms/epoch - 17ms/step\n",
      "Epoch 13/22\n",
      "28/28 - 1s - loss: 0.5888 - accuracy: 0.7076 - val_loss: 0.6277 - val_accuracy: 0.6258 - 516ms/epoch - 18ms/step\n",
      "Epoch 14/22\n",
      "28/28 - 1s - loss: 0.5915 - accuracy: 0.7008 - val_loss: 0.6239 - val_accuracy: 0.6258 - 537ms/epoch - 19ms/step\n",
      "Epoch 15/22\n",
      "28/28 - 0s - loss: 0.5873 - accuracy: 0.7033 - val_loss: 0.6251 - val_accuracy: 0.6194 - 497ms/epoch - 18ms/step\n",
      "Epoch 16/22\n",
      "28/28 - 0s - loss: 0.5894 - accuracy: 0.7008 - val_loss: 0.6169 - val_accuracy: 0.6258 - 480ms/epoch - 17ms/step\n",
      "Epoch 17/22\n",
      "28/28 - 0s - loss: 0.5895 - accuracy: 0.7029 - val_loss: 0.6260 - val_accuracy: 0.6226 - 451ms/epoch - 16ms/step\n",
      "Epoch 18/22\n",
      "28/28 - 0s - loss: 0.5874 - accuracy: 0.7015 - val_loss: 0.6187 - val_accuracy: 0.6258 - 459ms/epoch - 16ms/step\n",
      "Epoch 19/22\n",
      "28/28 - 0s - loss: 0.5888 - accuracy: 0.6986 - val_loss: 0.6205 - val_accuracy: 0.6226 - 440ms/epoch - 16ms/step\n",
      "Epoch 20/22\n",
      "28/28 - 0s - loss: 0.5896 - accuracy: 0.7015 - val_loss: 0.6200 - val_accuracy: 0.6290 - 466ms/epoch - 17ms/step\n",
      "Epoch 21/22\n",
      "28/28 - 0s - loss: 0.5858 - accuracy: 0.7011 - val_loss: 0.6198 - val_accuracy: 0.6226 - 453ms/epoch - 16ms/step\n",
      "Epoch 22/22\n",
      "28/28 - 0s - loss: 0.5867 - accuracy: 0.7047 - val_loss: 0.6166 - val_accuracy: 0.6452 - 469ms/epoch - 17ms/step\n",
      "You must install pydot (`pip install pydot`) and install graphviz (see instructions at https://graphviz.gitlab.io/download/) for plot_model to work.\n",
      "Model: \"sequential\"\n",
      "_________________________________________________________________\n",
      " Layer (type)                Output Shape              Param #   \n",
      "=================================================================\n",
      " gru (GRU)                   (None, 20, 64)            14400     \n",
      "                                                                 \n",
      " gru_1 (GRU)                 (None, 32)                9408      \n",
      "                                                                 \n",
      " dropout (Dropout)           (None, 32)                0         \n",
      "                                                                 \n",
      " dense (Dense)               (None, 2)                 66        \n",
      "                                                                 \n",
      "=================================================================\n",
      "Total params: 23,874\n",
      "Trainable params: 23,874\n",
      "Non-trainable params: 0\n",
      "_________________________________________________________________\n",
      "None\n"
     ]
    }
   ],
   "source": [
    "model, history = basic_GRU(input_dim, output_dim, input_feature_size)\n",
    "plot_model(model, to_file='Figures/Others/GRU_Model.png')\n",
    "print(model.summary())"
   ]
  },
  {
   "cell_type": "code",
   "execution_count": 2147,
   "metadata": {
    "pycharm": {
     "name": "#%%\n"
    }
   },
   "outputs": [
    {
     "data": {
      "image/png": "[encoded data removed]",
      "text/plain": [
       "<Figure size 640x480 with 1 Axes>"
      ]
     },
     "metadata": {},
     "output_type": "display_data"
    }
   ],
   "source": [
    "plt.plot(history.history[\"accuracy\"], label=\"train\")\n",
    "plt.plot(history.history[\"val_accuracy\"], label=\"test\")\n",
    "plt.title(\"Skuteczność - GRU\")\n",
    "plt.xlabel(\"Epoch\")\n",
    "plt.ylabel(\"Skuteczność\")\n",
    "plt.xticks(np.arange(0, N_EPOCH, step=5))\n",
    "plt.yticks(np.arange(0, 1, step=0.1))\n",
    "plt.legend()\n",
    "plt.show()"
   ]
  },
  {
   "cell_type": "markdown",
   "metadata": {},
   "source": []
  },
  {
   "cell_type": "code",
   "execution_count": 2148,
   "metadata": {
    "pycharm": {
     "name": "#%%\n"
    }
   },
   "outputs": [
    {
     "name": "stdout",
     "output_type": "stream",
     "text": [
      "10/10 [==============================] - 0s 5ms/step - loss: 0.6192 - accuracy: 0.6226\n",
      "Test loss: 0.6191628575325012\n",
      "Test accuracy: 0.6225806474685669\n"
     ]
    }
   ],
   "source": [
    "score = model.evaluate(X_test, y_test)\n",
    "print('Test loss:', score[0])\n",
    "print('Test accuracy:', score[1])"
   ]
  },
  {
   "cell_type": "code",
   "execution_count": 2149,
   "metadata": {
    "pycharm": {
     "name": "#%%\n"
    }
   },
   "outputs": [
    {
     "name": "stdout",
     "output_type": "stream",
     "text": [
      "Maksymalna skuteczność to: 63.55%\n"
     ]
    }
   ],
   "source": [
    "print(\"Maksymalna skuteczność to: {:.2f}%\".format((max(history.history[\"val_accuracy\"])*100)))"
   ]
  },
  {
   "cell_type": "code",
   "execution_count": 2150,
   "metadata": {
    "pycharm": {
     "name": "#%%\n"
    }
   },
   "outputs": [],
   "source": [
    "model.save(LearningDataPath+\"/GRU_\"+str(n_steps_in)+\"Days.h5\")\n",
    "model.save(LearningDataPath+\"/GRU_\"+str(n_steps_in)+\"Days\"+str(round(score[1]*100))+\"p.h5\")"
   ]
  }
 ],
 "metadata": {
  "kernelspec": {
   "display_name": "Python 3 (ipykernel)",
   "language": "python",
   "name": "python3"
  },
  "language_info": {
   "codemirror_mode": {
    "name": "ipython",
    "version": 3
   },
   "file_extension": ".py",
   "mimetype": "text/x-python",
   "name": "python",
   "nbconvert_exporter": "python",
   "pygments_lexer": "ipython3",
   "version": "3.9.7"
  }
 },
 "nbformat": 4,
 "nbformat_minor": 1
}