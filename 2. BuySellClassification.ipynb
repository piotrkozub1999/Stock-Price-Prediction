{
 "cells": [
  {
   "cell_type": "code",
   "execution_count": 1,
   "metadata": {
    "collapsed": true
   },
   "outputs": [],
   "source": [
    "import pandas as pd\n",
    "import numpy as np\n",
    "import tensorflow as tf\n",
    "from datetime import datetime\n",
    "from sklearn.preprocessing import MinMaxScaler\n",
    "from pickle import dump\n",
    "import warnings\n",
    "import os\n",
    "from keras.optimizers import Adam\n",
    "from keras import models\n",
    "from keras.layers import Dropout, Dense, GRU, LSTM, Flatten\n",
    "warnings.filterwarnings('ignore')"
   ]
  },
  {
   "cell_type": "code",
   "execution_count": 2,
   "outputs": [],
   "source": [
    "### Setting simulation year and learning period\n",
    "SimulationYear = 2021\n",
    "Period = 10\n",
    "LearningYearStart = SimulationYear - Period + 1"
   ],
   "metadata": {
    "collapsed": false,
    "pycharm": {
     "name": "#%%\n"
    }
   }
  },
  {
   "cell_type": "code",
   "execution_count": 3,
   "outputs": [],
   "source": [
    "### Stock symbol\n",
    "code = \"EURUSD\"\n",
    "### Prepared dataset with indicators\n",
    "PreparedDatasetPath = \"Datasets_with_Indicators/\"+code+\".csv\"\n",
    "### Dataset for backtesting simulation path\n",
    "SimulationDatasetPath = \"SimulationDatasets/Classification/\"+code+\"_\"+str(SimulationYear)+\".csv\"\n",
    "### Creating directory for learning data\n",
    "LearningDataPath = \"ClassificationData/\"+code+\"_\"+str(SimulationYear)\n",
    "if not os.path.exists(LearningDataPath):\n",
    "   os.makedirs(LearningDataPath)"
   ],
   "metadata": {
    "collapsed": false,
    "pycharm": {
     "name": "#%%\n"
    }
   }
  },
  {
   "cell_type": "code",
   "execution_count": 4,
   "outputs": [],
   "source": [
    "n_steps_in = 10\n",
    "n_steps_out = 1\n",
    "output_features = 2"
   ],
   "metadata": {
    "collapsed": false,
    "pycharm": {
     "name": "#%%\n"
    }
   }
  },
  {
   "cell_type": "code",
   "execution_count": 5,
   "outputs": [],
   "source": [
    "# LR = 0.0005\n",
    "BATCH_SIZE = 100\n",
    "N_EPOCH = 30"
   ],
   "metadata": {
    "collapsed": false,
    "pycharm": {
     "name": "#%%\n"
    }
   }
  },
  {
   "cell_type": "code",
   "execution_count": 6,
   "outputs": [],
   "source": [
    "def get_simulation_data():\n",
    "    org_dataset = pd.read_csv(PreparedDatasetPath, parse_dates=True)\n",
    "    org_dataset.Date = pd.to_datetime(org_dataset.Date, dayfirst=True)\n",
    "    org_dataset = org_dataset.set_index(org_dataset.Date)\n",
    "    org_dataset = org_dataset.drop(\"ZigZag\", axis='columns')\n",
    "\n",
    "    org_dataset = org_dataset.drop(\"Return_rate\", axis='columns')\n",
    "    org_dataset = org_dataset.drop(\"RSI_7\", axis='columns')\n",
    "    org_dataset = org_dataset.drop(\"RSI_14\", axis='columns')\n",
    "    org_dataset = org_dataset.drop(\"MA_7\", axis='columns')\n",
    "    org_dataset = org_dataset.drop(\"MA_14\", axis='columns')\n",
    "\n",
    "    sim_dataset = org_dataset[str(SimulationYear)+\"-01-02\":str(SimulationYear)+\"-12-31\"]\n",
    "    sim_dataset = sim_dataset.reset_index(drop=True)\n",
    "    sim_dataset.to_csv(SimulationDatasetPath, index=False)\n",
    "\n",
    "    return sim_dataset, len(sim_dataset)"
   ],
   "metadata": {
    "collapsed": false,
    "pycharm": {
     "name": "#%%\n"
    }
   }
  },
  {
   "cell_type": "markdown",
   "source": [
    "## 1. Przygotowanie danych"
   ],
   "metadata": {
    "collapsed": false,
    "pycharm": {
     "name": "#%% md\n"
    }
   }
  },
  {
   "cell_type": "code",
   "execution_count": 7,
   "outputs": [
    {
     "data": {
      "text/plain": "               Open     High      Low    Close  ZigZag  Return_rate  \\\nDate                                                                  \n2000-01-18  1.01110  1.01550  1.00720  1.01400       1     1.002769   \n2000-01-19  1.01410  1.01650  1.00850  1.01170       1     0.997732   \n2000-01-20  1.01160  1.01880  1.00730  1.01690       1     1.005140   \n2000-01-21  1.01660  1.01930  1.00500  1.00870       1     0.991936   \n2000-01-23  1.00280  1.00450  1.00260  1.00430       1     0.995638   \n...             ...      ...      ...      ...     ...          ...   \n2022-12-07  1.04670  1.05493  1.04427  1.05114       0     1.004223   \n2022-12-08  1.05115  1.05643  1.04892  1.05551       0     1.004157   \n2022-12-09  1.05549  1.05878  1.05032  1.05325       0     0.997859   \n2022-12-11  1.05286  1.05371  1.05176  1.05204       0     0.998851   \n2022-12-12  1.05204  1.05795  1.05054  1.05407       0     1.001930   \n\n                RSI_7     RSI_14      MA_7     MA_14  \nDate                                                  \n2000-01-18  36.106221  41.847381  1.019714  1.024307  \n2000-01-19  32.411299  39.100201  1.016786  1.023271  \n2000-01-20  46.777470  47.492823  1.014700  1.022393  \n2000-01-21  33.627629  38.485863  1.012514  1.020707  \n2000-01-23  28.595350  34.684738  1.011386  1.018836  \n...               ...        ...       ...       ...  \n2022-12-07  64.103095  64.267401  1.050111  1.043287  \n2022-12-08  69.392195  66.614241  1.052003  1.045037  \n2022-12-09  63.726914  64.263552  1.052074  1.045859  \n2022-12-11  60.634794  62.982086  1.051797  1.046666  \n2022-12-12  64.049088  64.269381  1.051760  1.047780  \n\n[7140 rows x 10 columns]",
      "text/html": "<div>\n<style scoped>\n    .dataframe tbody tr th:only-of-type {\n        vertical-align: middle;\n    }\n\n    .dataframe tbody tr th {\n        vertical-align: top;\n    }\n\n    .dataframe thead th {\n        text-align: right;\n    }\n</style>\n<table border=\"1\" class=\"dataframe\">\n  <thead>\n    <tr style=\"text-align: right;\">\n      <th></th>\n      <th>Open</th>\n      <th>High</th>\n      <th>Low</th>\n      <th>Close</th>\n      <th>ZigZag</th>\n      <th>Return_rate</th>\n      <th>RSI_7</th>\n      <th>RSI_14</th>\n      <th>MA_7</th>\n      <th>MA_14</th>\n    </tr>\n    <tr>\n      <th>Date</th>\n      <th></th>\n      <th></th>\n      <th></th>\n      <th></th>\n      <th></th>\n      <th></th>\n      <th></th>\n      <th></th>\n      <th></th>\n      <th></th>\n    </tr>\n  </thead>\n  <tbody>\n    <tr>\n      <th>2000-01-18</th>\n      <td>1.01110</td>\n      <td>1.01550</td>\n      <td>1.00720</td>\n      <td>1.01400</td>\n      <td>1</td>\n      <td>1.002769</td>\n      <td>36.106221</td>\n      <td>41.847381</td>\n      <td>1.019714</td>\n      <td>1.024307</td>\n    </tr>\n    <tr>\n      <th>2000-01-19</th>\n      <td>1.01410</td>\n      <td>1.01650</td>\n      <td>1.00850</td>\n      <td>1.01170</td>\n      <td>1</td>\n      <td>0.997732</td>\n      <td>32.411299</td>\n      <td>39.100201</td>\n      <td>1.016786</td>\n      <td>1.023271</td>\n    </tr>\n    <tr>\n      <th>2000-01-20</th>\n      <td>1.01160</td>\n      <td>1.01880</td>\n      <td>1.00730</td>\n      <td>1.01690</td>\n      <td>1</td>\n      <td>1.005140</td>\n      <td>46.777470</td>\n      <td>47.492823</td>\n      <td>1.014700</td>\n      <td>1.022393</td>\n    </tr>\n    <tr>\n      <th>2000-01-21</th>\n      <td>1.01660</td>\n      <td>1.01930</td>\n      <td>1.00500</td>\n      <td>1.00870</td>\n      <td>1</td>\n      <td>0.991936</td>\n      <td>33.627629</td>\n      <td>38.485863</td>\n      <td>1.012514</td>\n      <td>1.020707</td>\n    </tr>\n    <tr>\n      <th>2000-01-23</th>\n      <td>1.00280</td>\n      <td>1.00450</td>\n      <td>1.00260</td>\n      <td>1.00430</td>\n      <td>1</td>\n      <td>0.995638</td>\n      <td>28.595350</td>\n      <td>34.684738</td>\n      <td>1.011386</td>\n      <td>1.018836</td>\n    </tr>\n    <tr>\n      <th>...</th>\n      <td>...</td>\n      <td>...</td>\n      <td>...</td>\n      <td>...</td>\n      <td>...</td>\n      <td>...</td>\n      <td>...</td>\n      <td>...</td>\n      <td>...</td>\n      <td>...</td>\n    </tr>\n    <tr>\n      <th>2022-12-07</th>\n      <td>1.04670</td>\n      <td>1.05493</td>\n      <td>1.04427</td>\n      <td>1.05114</td>\n      <td>0</td>\n      <td>1.004223</td>\n      <td>64.103095</td>\n      <td>64.267401</td>\n      <td>1.050111</td>\n      <td>1.043287</td>\n    </tr>\n    <tr>\n      <th>2022-12-08</th>\n      <td>1.05115</td>\n      <td>1.05643</td>\n      <td>1.04892</td>\n      <td>1.05551</td>\n      <td>0</td>\n      <td>1.004157</td>\n      <td>69.392195</td>\n      <td>66.614241</td>\n      <td>1.052003</td>\n      <td>1.045037</td>\n    </tr>\n    <tr>\n      <th>2022-12-09</th>\n      <td>1.05549</td>\n      <td>1.05878</td>\n      <td>1.05032</td>\n      <td>1.05325</td>\n      <td>0</td>\n      <td>0.997859</td>\n      <td>63.726914</td>\n      <td>64.263552</td>\n      <td>1.052074</td>\n      <td>1.045859</td>\n    </tr>\n    <tr>\n      <th>2022-12-11</th>\n      <td>1.05286</td>\n      <td>1.05371</td>\n      <td>1.05176</td>\n      <td>1.05204</td>\n      <td>0</td>\n      <td>0.998851</td>\n      <td>60.634794</td>\n      <td>62.982086</td>\n      <td>1.051797</td>\n      <td>1.046666</td>\n    </tr>\n    <tr>\n      <th>2022-12-12</th>\n      <td>1.05204</td>\n      <td>1.05795</td>\n      <td>1.05054</td>\n      <td>1.05407</td>\n      <td>0</td>\n      <td>1.001930</td>\n      <td>64.049088</td>\n      <td>64.269381</td>\n      <td>1.051760</td>\n      <td>1.047780</td>\n    </tr>\n  </tbody>\n</table>\n<p>7140 rows × 10 columns</p>\n</div>"
     },
     "execution_count": 7,
     "metadata": {},
     "output_type": "execute_result"
    }
   ],
   "source": [
    "dataset = pd.read_csv(PreparedDatasetPath, parse_dates=True)\n",
    "dataset.Date = pd.to_datetime(dataset.Date, dayfirst=True)\n",
    "dataset = dataset.set_index(dataset.Date)\n",
    "dataset = dataset.drop(\"Date\", axis='columns')\n",
    "dataset"
   ],
   "metadata": {
    "collapsed": false,
    "pycharm": {
     "name": "#%%\n"
    }
   }
  },
  {
   "cell_type": "code",
   "execution_count": 8,
   "outputs": [
    {
     "data": {
      "text/plain": "               Open     High      Low    Close  ZigZag  Return_rate  \\\nDate                                                                  \n2012-01-02  1.29418  1.29681  1.29168  1.29517       1     1.000827   \n2012-01-03  1.29519  1.30762  1.29512  1.30476       1     1.007404   \n2012-01-04  1.30478  1.30719  1.28974  1.29326       1     0.991186   \n2012-01-05  1.29327  1.29434  1.27702  1.27911       1     0.989059   \n2012-01-06  1.27910  1.28121  1.26972  1.27188       1     0.994348   \n...             ...      ...      ...      ...     ...          ...   \n2021-12-27  1.13228  1.13336  1.13025  1.13292       0     1.000565   \n2021-12-28  1.13292  1.13329  1.12891  1.13125       0     0.998526   \n2021-12-29  1.13129  1.13681  1.12731  1.13593       0     1.004137   \n2021-12-30  1.13593  1.13594  1.12979  1.13219       0     0.996708   \n2021-12-31  1.13215  1.13859  1.13027  1.13685       0     1.004116   \n\n                RSI_7     RSI_14      MA_7     MA_14  \nDate                                                  \n2012-01-02  36.436361  35.847328  1.297531  1.301094  \n2012-01-03  54.870125  44.511377  1.297374  1.301135  \n2012-01-04  39.033340  37.901071  1.295419  1.300498  \n2012-01-05  27.598652  31.669051  1.293856  1.298976  \n2012-01-06  23.495626  29.041435  1.290561  1.296164  \n...               ...        ...       ...       ...  \n2021-12-27  60.157393  52.099889  1.131183  1.129533  \n2021-12-28  52.577906  49.445781  1.131696  1.129549  \n2021-12-29  66.413362  56.182433  1.132731  1.130094  \n2021-12-30  52.211341  50.402185  1.132673  1.130557  \n2021-12-31  63.543861  56.418701  1.133331  1.131118  \n\n[3112 rows x 10 columns]",
      "text/html": "<div>\n<style scoped>\n    .dataframe tbody tr th:only-of-type {\n        vertical-align: middle;\n    }\n\n    .dataframe tbody tr th {\n        vertical-align: top;\n    }\n\n    .dataframe thead th {\n        text-align: right;\n    }\n</style>\n<table border=\"1\" class=\"dataframe\">\n  <thead>\n    <tr style=\"text-align: right;\">\n      <th></th>\n      <th>Open</th>\n      <th>High</th>\n      <th>Low</th>\n      <th>Close</th>\n      <th>ZigZag</th>\n      <th>Return_rate</th>\n      <th>RSI_7</th>\n      <th>RSI_14</th>\n      <th>MA_7</th>\n      <th>MA_14</th>\n    </tr>\n    <tr>\n      <th>Date</th>\n      <th></th>\n      <th></th>\n      <th></th>\n      <th></th>\n      <th></th>\n      <th></th>\n      <th></th>\n      <th></th>\n      <th></th>\n      <th></th>\n    </tr>\n  </thead>\n  <tbody>\n    <tr>\n      <th>2012-01-02</th>\n      <td>1.29418</td>\n      <td>1.29681</td>\n      <td>1.29168</td>\n      <td>1.29517</td>\n      <td>1</td>\n      <td>1.000827</td>\n      <td>36.436361</td>\n      <td>35.847328</td>\n      <td>1.297531</td>\n      <td>1.301094</td>\n    </tr>\n    <tr>\n      <th>2012-01-03</th>\n      <td>1.29519</td>\n      <td>1.30762</td>\n      <td>1.29512</td>\n      <td>1.30476</td>\n      <td>1</td>\n      <td>1.007404</td>\n      <td>54.870125</td>\n      <td>44.511377</td>\n      <td>1.297374</td>\n      <td>1.301135</td>\n    </tr>\n    <tr>\n      <th>2012-01-04</th>\n      <td>1.30478</td>\n      <td>1.30719</td>\n      <td>1.28974</td>\n      <td>1.29326</td>\n      <td>1</td>\n      <td>0.991186</td>\n      <td>39.033340</td>\n      <td>37.901071</td>\n      <td>1.295419</td>\n      <td>1.300498</td>\n    </tr>\n    <tr>\n      <th>2012-01-05</th>\n      <td>1.29327</td>\n      <td>1.29434</td>\n      <td>1.27702</td>\n      <td>1.27911</td>\n      <td>1</td>\n      <td>0.989059</td>\n      <td>27.598652</td>\n      <td>31.669051</td>\n      <td>1.293856</td>\n      <td>1.298976</td>\n    </tr>\n    <tr>\n      <th>2012-01-06</th>\n      <td>1.27910</td>\n      <td>1.28121</td>\n      <td>1.26972</td>\n      <td>1.27188</td>\n      <td>1</td>\n      <td>0.994348</td>\n      <td>23.495626</td>\n      <td>29.041435</td>\n      <td>1.290561</td>\n      <td>1.296164</td>\n    </tr>\n    <tr>\n      <th>...</th>\n      <td>...</td>\n      <td>...</td>\n      <td>...</td>\n      <td>...</td>\n      <td>...</td>\n      <td>...</td>\n      <td>...</td>\n      <td>...</td>\n      <td>...</td>\n      <td>...</td>\n    </tr>\n    <tr>\n      <th>2021-12-27</th>\n      <td>1.13228</td>\n      <td>1.13336</td>\n      <td>1.13025</td>\n      <td>1.13292</td>\n      <td>0</td>\n      <td>1.000565</td>\n      <td>60.157393</td>\n      <td>52.099889</td>\n      <td>1.131183</td>\n      <td>1.129533</td>\n    </tr>\n    <tr>\n      <th>2021-12-28</th>\n      <td>1.13292</td>\n      <td>1.13329</td>\n      <td>1.12891</td>\n      <td>1.13125</td>\n      <td>0</td>\n      <td>0.998526</td>\n      <td>52.577906</td>\n      <td>49.445781</td>\n      <td>1.131696</td>\n      <td>1.129549</td>\n    </tr>\n    <tr>\n      <th>2021-12-29</th>\n      <td>1.13129</td>\n      <td>1.13681</td>\n      <td>1.12731</td>\n      <td>1.13593</td>\n      <td>0</td>\n      <td>1.004137</td>\n      <td>66.413362</td>\n      <td>56.182433</td>\n      <td>1.132731</td>\n      <td>1.130094</td>\n    </tr>\n    <tr>\n      <th>2021-12-30</th>\n      <td>1.13593</td>\n      <td>1.13594</td>\n      <td>1.12979</td>\n      <td>1.13219</td>\n      <td>0</td>\n      <td>0.996708</td>\n      <td>52.211341</td>\n      <td>50.402185</td>\n      <td>1.132673</td>\n      <td>1.130557</td>\n    </tr>\n    <tr>\n      <th>2021-12-31</th>\n      <td>1.13215</td>\n      <td>1.13859</td>\n      <td>1.13027</td>\n      <td>1.13685</td>\n      <td>0</td>\n      <td>1.004116</td>\n      <td>63.543861</td>\n      <td>56.418701</td>\n      <td>1.133331</td>\n      <td>1.131118</td>\n    </tr>\n  </tbody>\n</table>\n<p>3112 rows × 10 columns</p>\n</div>"
     },
     "execution_count": 8,
     "metadata": {},
     "output_type": "execute_result"
    }
   ],
   "source": [
    "dataset = dataset[str(LearningYearStart)+\"-01-02\":str(SimulationYear)+\"-12-31\"]\n",
    "dataset"
   ],
   "metadata": {
    "collapsed": false,
    "pycharm": {
     "name": "#%%\n"
    }
   }
  },
  {
   "cell_type": "code",
   "execution_count": 9,
   "outputs": [
    {
     "data": {
      "text/plain": "          Date     Open     High      Low    Close\n0   2021-01-03  1.22382  1.22523  1.22269  1.22495\n1   2021-01-04  1.22495  1.23091  1.22382  1.22522\n2   2021-01-05  1.22521  1.23051  1.22468  1.22982\n3   2021-01-06  1.22982  1.23488  1.22652  1.23377\n4   2021-01-07  1.23378  1.23438  1.22445  1.22686\n..         ...      ...      ...      ...      ...\n307 2021-12-27  1.13228  1.13336  1.13025  1.13292\n308 2021-12-28  1.13292  1.13329  1.12891  1.13125\n309 2021-12-29  1.13129  1.13681  1.12731  1.13593\n310 2021-12-30  1.13593  1.13594  1.12979  1.13219\n311 2021-12-31  1.13215  1.13859  1.13027  1.13685\n\n[312 rows x 5 columns]",
      "text/html": "<div>\n<style scoped>\n    .dataframe tbody tr th:only-of-type {\n        vertical-align: middle;\n    }\n\n    .dataframe tbody tr th {\n        vertical-align: top;\n    }\n\n    .dataframe thead th {\n        text-align: right;\n    }\n</style>\n<table border=\"1\" class=\"dataframe\">\n  <thead>\n    <tr style=\"text-align: right;\">\n      <th></th>\n      <th>Date</th>\n      <th>Open</th>\n      <th>High</th>\n      <th>Low</th>\n      <th>Close</th>\n    </tr>\n  </thead>\n  <tbody>\n    <tr>\n      <th>0</th>\n      <td>2021-01-03</td>\n      <td>1.22382</td>\n      <td>1.22523</td>\n      <td>1.22269</td>\n      <td>1.22495</td>\n    </tr>\n    <tr>\n      <th>1</th>\n      <td>2021-01-04</td>\n      <td>1.22495</td>\n      <td>1.23091</td>\n      <td>1.22382</td>\n      <td>1.22522</td>\n    </tr>\n    <tr>\n      <th>2</th>\n      <td>2021-01-05</td>\n      <td>1.22521</td>\n      <td>1.23051</td>\n      <td>1.22468</td>\n      <td>1.22982</td>\n    </tr>\n    <tr>\n      <th>3</th>\n      <td>2021-01-06</td>\n      <td>1.22982</td>\n      <td>1.23488</td>\n      <td>1.22652</td>\n      <td>1.23377</td>\n    </tr>\n    <tr>\n      <th>4</th>\n      <td>2021-01-07</td>\n      <td>1.23378</td>\n      <td>1.23438</td>\n      <td>1.22445</td>\n      <td>1.22686</td>\n    </tr>\n    <tr>\n      <th>...</th>\n      <td>...</td>\n      <td>...</td>\n      <td>...</td>\n      <td>...</td>\n      <td>...</td>\n    </tr>\n    <tr>\n      <th>307</th>\n      <td>2021-12-27</td>\n      <td>1.13228</td>\n      <td>1.13336</td>\n      <td>1.13025</td>\n      <td>1.13292</td>\n    </tr>\n    <tr>\n      <th>308</th>\n      <td>2021-12-28</td>\n      <td>1.13292</td>\n      <td>1.13329</td>\n      <td>1.12891</td>\n      <td>1.13125</td>\n    </tr>\n    <tr>\n      <th>309</th>\n      <td>2021-12-29</td>\n      <td>1.13129</td>\n      <td>1.13681</td>\n      <td>1.12731</td>\n      <td>1.13593</td>\n    </tr>\n    <tr>\n      <th>310</th>\n      <td>2021-12-30</td>\n      <td>1.13593</td>\n      <td>1.13594</td>\n      <td>1.12979</td>\n      <td>1.13219</td>\n    </tr>\n    <tr>\n      <th>311</th>\n      <td>2021-12-31</td>\n      <td>1.13215</td>\n      <td>1.13859</td>\n      <td>1.13027</td>\n      <td>1.13685</td>\n    </tr>\n  </tbody>\n</table>\n<p>312 rows × 5 columns</p>\n</div>"
     },
     "execution_count": 9,
     "metadata": {},
     "output_type": "execute_result"
    }
   ],
   "source": [
    "sim_dataset, TestLength= get_simulation_data()\n",
    "sim_dataset"
   ],
   "metadata": {
    "collapsed": false,
    "pycharm": {
     "name": "#%%\n"
    }
   }
  },
  {
   "cell_type": "code",
   "execution_count": 10,
   "outputs": [],
   "source": [
    "X_value = pd.DataFrame(dataset.iloc[:, :])\n",
    "X_value = X_value.drop(\"ZigZag\", axis='columns')\n",
    "y_value = pd.DataFrame(dataset.ZigZag)"
   ],
   "metadata": {
    "collapsed": false,
    "pycharm": {
     "name": "#%%\n"
    }
   }
  },
  {
   "cell_type": "code",
   "execution_count": 11,
   "outputs": [
    {
     "name": "stdout",
     "output_type": "stream",
     "text": [
      "9\n"
     ]
    }
   ],
   "source": [
    "n_features = X_value.shape[1]\n",
    "print(n_features)"
   ],
   "metadata": {
    "collapsed": false,
    "pycharm": {
     "name": "#%%\n"
    }
   }
  },
  {
   "cell_type": "code",
   "execution_count": 12,
   "outputs": [
    {
     "data": {
      "text/plain": "               Open     High      Low    Close  Return_rate      RSI_7  \\\nDate                                                                     \n2012-01-02  1.29418  1.29681  1.29168  1.29517     1.000827  36.436361   \n2012-01-03  1.29519  1.30762  1.29512  1.30476     1.007404  54.870125   \n2012-01-04  1.30478  1.30719  1.28974  1.29326     0.991186  39.033340   \n2012-01-05  1.29327  1.29434  1.27702  1.27911     0.989059  27.598652   \n2012-01-06  1.27910  1.28121  1.26972  1.27188     0.994348  23.495626   \n...             ...      ...      ...      ...          ...        ...   \n2021-12-27  1.13228  1.13336  1.13025  1.13292     1.000565  60.157393   \n2021-12-28  1.13292  1.13329  1.12891  1.13125     0.998526  52.577906   \n2021-12-29  1.13129  1.13681  1.12731  1.13593     1.004137  66.413362   \n2021-12-30  1.13593  1.13594  1.12979  1.13219     0.996708  52.211341   \n2021-12-31  1.13215  1.13859  1.13027  1.13685     1.004116  63.543861   \n\n               RSI_14      MA_7     MA_14  \nDate                                       \n2012-01-02  35.847328  1.297531  1.301094  \n2012-01-03  44.511377  1.297374  1.301135  \n2012-01-04  37.901071  1.295419  1.300498  \n2012-01-05  31.669051  1.293856  1.298976  \n2012-01-06  29.041435  1.290561  1.296164  \n...               ...       ...       ...  \n2021-12-27  52.099889  1.131183  1.129533  \n2021-12-28  49.445781  1.131696  1.129549  \n2021-12-29  56.182433  1.132731  1.130094  \n2021-12-30  50.402185  1.132673  1.130557  \n2021-12-31  56.418701  1.133331  1.131118  \n\n[3112 rows x 9 columns]",
      "text/html": "<div>\n<style scoped>\n    .dataframe tbody tr th:only-of-type {\n        vertical-align: middle;\n    }\n\n    .dataframe tbody tr th {\n        vertical-align: top;\n    }\n\n    .dataframe thead th {\n        text-align: right;\n    }\n</style>\n<table border=\"1\" class=\"dataframe\">\n  <thead>\n    <tr style=\"text-align: right;\">\n      <th></th>\n      <th>Open</th>\n      <th>High</th>\n      <th>Low</th>\n      <th>Close</th>\n      <th>Return_rate</th>\n      <th>RSI_7</th>\n      <th>RSI_14</th>\n      <th>MA_7</th>\n      <th>MA_14</th>\n    </tr>\n    <tr>\n      <th>Date</th>\n      <th></th>\n      <th></th>\n      <th></th>\n      <th></th>\n      <th></th>\n      <th></th>\n      <th></th>\n      <th></th>\n      <th></th>\n    </tr>\n  </thead>\n  <tbody>\n    <tr>\n      <th>2012-01-02</th>\n      <td>1.29418</td>\n      <td>1.29681</td>\n      <td>1.29168</td>\n      <td>1.29517</td>\n      <td>1.000827</td>\n      <td>36.436361</td>\n      <td>35.847328</td>\n      <td>1.297531</td>\n      <td>1.301094</td>\n    </tr>\n    <tr>\n      <th>2012-01-03</th>\n      <td>1.29519</td>\n      <td>1.30762</td>\n      <td>1.29512</td>\n      <td>1.30476</td>\n      <td>1.007404</td>\n      <td>54.870125</td>\n      <td>44.511377</td>\n      <td>1.297374</td>\n      <td>1.301135</td>\n    </tr>\n    <tr>\n      <th>2012-01-04</th>\n      <td>1.30478</td>\n      <td>1.30719</td>\n      <td>1.28974</td>\n      <td>1.29326</td>\n      <td>0.991186</td>\n      <td>39.033340</td>\n      <td>37.901071</td>\n      <td>1.295419</td>\n      <td>1.300498</td>\n    </tr>\n    <tr>\n      <th>2012-01-05</th>\n      <td>1.29327</td>\n      <td>1.29434</td>\n      <td>1.27702</td>\n      <td>1.27911</td>\n      <td>0.989059</td>\n      <td>27.598652</td>\n      <td>31.669051</td>\n      <td>1.293856</td>\n      <td>1.298976</td>\n    </tr>\n    <tr>\n      <th>2012-01-06</th>\n      <td>1.27910</td>\n      <td>1.28121</td>\n      <td>1.26972</td>\n      <td>1.27188</td>\n      <td>0.994348</td>\n      <td>23.495626</td>\n      <td>29.041435</td>\n      <td>1.290561</td>\n      <td>1.296164</td>\n    </tr>\n    <tr>\n      <th>...</th>\n      <td>...</td>\n      <td>...</td>\n      <td>...</td>\n      <td>...</td>\n      <td>...</td>\n      <td>...</td>\n      <td>...</td>\n      <td>...</td>\n      <td>...</td>\n    </tr>\n    <tr>\n      <th>2021-12-27</th>\n      <td>1.13228</td>\n      <td>1.13336</td>\n      <td>1.13025</td>\n      <td>1.13292</td>\n      <td>1.000565</td>\n      <td>60.157393</td>\n      <td>52.099889</td>\n      <td>1.131183</td>\n      <td>1.129533</td>\n    </tr>\n    <tr>\n      <th>2021-12-28</th>\n      <td>1.13292</td>\n      <td>1.13329</td>\n      <td>1.12891</td>\n      <td>1.13125</td>\n      <td>0.998526</td>\n      <td>52.577906</td>\n      <td>49.445781</td>\n      <td>1.131696</td>\n      <td>1.129549</td>\n    </tr>\n    <tr>\n      <th>2021-12-29</th>\n      <td>1.13129</td>\n      <td>1.13681</td>\n      <td>1.12731</td>\n      <td>1.13593</td>\n      <td>1.004137</td>\n      <td>66.413362</td>\n      <td>56.182433</td>\n      <td>1.132731</td>\n      <td>1.130094</td>\n    </tr>\n    <tr>\n      <th>2021-12-30</th>\n      <td>1.13593</td>\n      <td>1.13594</td>\n      <td>1.12979</td>\n      <td>1.13219</td>\n      <td>0.996708</td>\n      <td>52.211341</td>\n      <td>50.402185</td>\n      <td>1.132673</td>\n      <td>1.130557</td>\n    </tr>\n    <tr>\n      <th>2021-12-31</th>\n      <td>1.13215</td>\n      <td>1.13859</td>\n      <td>1.13027</td>\n      <td>1.13685</td>\n      <td>1.004116</td>\n      <td>63.543861</td>\n      <td>56.418701</td>\n      <td>1.133331</td>\n      <td>1.131118</td>\n    </tr>\n  </tbody>\n</table>\n<p>3112 rows × 9 columns</p>\n</div>"
     },
     "execution_count": 12,
     "metadata": {},
     "output_type": "execute_result"
    }
   ],
   "source": [
    "X_value"
   ],
   "metadata": {
    "collapsed": false,
    "pycharm": {
     "name": "#%%\n"
    }
   }
  },
  {
   "cell_type": "code",
   "execution_count": 13,
   "outputs": [],
   "source": [
    "y_value = tf.keras.utils.to_categorical(y_value)"
   ],
   "metadata": {
    "collapsed": false,
    "pycharm": {
     "name": "#%%\n"
    }
   }
  },
  {
   "cell_type": "code",
   "execution_count": 14,
   "outputs": [
    {
     "data": {
      "text/plain": "array([[0., 1.],\n       [0., 1.],\n       [0., 1.],\n       ...,\n       [1., 0.],\n       [1., 0.],\n       [1., 0.]], dtype=float32)"
     },
     "execution_count": 14,
     "metadata": {},
     "output_type": "execute_result"
    }
   ],
   "source": [
    "y_value"
   ],
   "metadata": {
    "collapsed": false,
    "pycharm": {
     "name": "#%%\n"
    }
   }
  },
  {
   "cell_type": "code",
   "execution_count": 15,
   "outputs": [],
   "source": [
    "# Normalized the data\n",
    "X_scaler = MinMaxScaler(feature_range=(-1, 1))\n",
    "X_scaler.fit(X_value)\n",
    "X_scale_dataset = X_scaler.fit_transform(X_value)\n",
    "dump(X_scaler, open(LearningDataPath+\"/X_scaler.pkl\", \"wb\"))"
   ],
   "metadata": {
    "collapsed": false,
    "pycharm": {
     "name": "#%%\n"
    }
   }
  },
  {
   "cell_type": "code",
   "execution_count": 20,
   "outputs": [],
   "source": [
    "def get_X_y(X_data, y_data):\n",
    "    X = list()\n",
    "    y = list()\n",
    "\n",
    "    length = len(X_data)\n",
    "    for i in range(0, length-n_steps_in, 1):\n",
    "        X_value = X_data[i: i + n_steps_in][:, :]\n",
    "        # y_value = y_data[i + n_steps_in: i + (n_steps_in + n_steps_out)][:, :]\n",
    "        y_value = y_data[i + n_steps_in]\n",
    "        if len(X_value) == n_steps_in and len(y_value) == output_features:\n",
    "            X.append(X_value)\n",
    "            y.append(y_value)\n",
    "\n",
    "    return np.array(X), np.array(y)"
   ],
   "metadata": {
    "collapsed": false,
    "pycharm": {
     "name": "#%%\n"
    }
   }
  },
  {
   "cell_type": "code",
   "execution_count": 21,
   "outputs": [],
   "source": [
    "def predict_index(dataset, X_train, n_steps_in, n_steps_out):\n",
    "\n",
    "    train_predict_index = dataset.iloc[n_steps_in : X_train.shape[0] + n_steps_in + n_steps_out - 1, :].index\n",
    "    test_predict_index = dataset.iloc[X_train.shape[0] + n_steps_in:, :].index\n",
    "\n",
    "    return train_predict_index, test_predict_index"
   ],
   "metadata": {
    "collapsed": false,
    "pycharm": {
     "name": "#%%\n"
    }
   }
  },
  {
   "cell_type": "code",
   "execution_count": 22,
   "outputs": [],
   "source": [
    "def split_train_test(data):\n",
    "    train_size = len(X) - TestLength\n",
    "    data_train = data[0:train_size]\n",
    "    data_test = data[train_size:]\n",
    "    return data_train, data_test"
   ],
   "metadata": {
    "collapsed": false,
    "pycharm": {
     "name": "#%%\n"
    }
   }
  },
  {
   "cell_type": "code",
   "execution_count": 23,
   "outputs": [
    {
     "name": "stdout",
     "output_type": "stream",
     "text": [
      "X shape:  (3102, 10, 9)\n",
      "y shape:  (3102, 2)\n",
      "X_train shape:  (2790, 10, 9)\n",
      "y_train shape:  (2790, 2)\n",
      "X_test shape:  (312, 10, 9)\n",
      "y_test shape:  (312, 2)\n",
      "index_train shape: (2790,)\n",
      "index_test shape: (312,)\n"
     ]
    }
   ],
   "source": [
    "X, y = get_X_y(X_scale_dataset, y_value)\n",
    "X_train, X_test, = split_train_test(X)\n",
    "y_train, y_test, = split_train_test(y)\n",
    "train_predict_index, test_predict_index, = predict_index(dataset, X_train, n_steps_in, n_steps_out)\n",
    "print('X shape: ', X.shape)\n",
    "print('y shape: ', y.shape)\n",
    "print('X_train shape: ', X_train.shape)\n",
    "print('y_train shape: ', y_train.shape)\n",
    "print('X_test shape: ', X_test.shape)\n",
    "print('y_test shape: ', y_test.shape)\n",
    "print('index_train shape:', train_predict_index.shape)\n",
    "print('index_test shape:', test_predict_index.shape)"
   ],
   "metadata": {
    "collapsed": false,
    "pycharm": {
     "name": "#%%\n"
    }
   }
  },
  {
   "cell_type": "code",
   "execution_count": 24,
   "outputs": [
    {
     "data": {
      "text/plain": "DatetimeIndex(['2012-01-13', '2012-01-15', '2012-01-16', '2012-01-17',\n               '2012-01-18', '2012-01-19', '2012-01-20', '2012-01-22',\n               '2012-01-23', '2012-01-24',\n               ...\n               '2020-12-20', '2020-12-21', '2020-12-22', '2020-12-23',\n               '2020-12-24', '2020-12-27', '2020-12-28', '2020-12-29',\n               '2020-12-30', '2020-12-31'],\n              dtype='datetime64[ns]', name='Date', length=2790, freq=None)"
     },
     "execution_count": 24,
     "metadata": {},
     "output_type": "execute_result"
    }
   ],
   "source": [
    "train_predict_index"
   ],
   "metadata": {
    "collapsed": false,
    "pycharm": {
     "name": "#%%\n"
    }
   }
  },
  {
   "cell_type": "code",
   "execution_count": 183,
   "outputs": [
    {
     "data": {
      "text/plain": "DatetimeIndex(['2021-01-03', '2021-01-04', '2021-01-05', '2021-01-06',\n               '2021-01-07', '2021-01-08', '2021-01-10', '2021-01-11',\n               '2021-01-12', '2021-01-13',\n               ...\n               '2021-12-21', '2021-12-22', '2021-12-23', '2021-12-24',\n               '2021-12-26', '2021-12-27', '2021-12-28', '2021-12-29',\n               '2021-12-30', '2021-12-31'],\n              dtype='datetime64[ns]', name='Date', length=312, freq=None)"
     },
     "execution_count": 183,
     "metadata": {},
     "output_type": "execute_result"
    }
   ],
   "source": [
    "test_predict_index"
   ],
   "metadata": {
    "collapsed": false,
    "pycharm": {
     "name": "#%%\n"
    }
   }
  },
  {
   "cell_type": "code",
   "execution_count": 187,
   "outputs": [],
   "source": [
    "np.save(LearningDataPath+\"/X_train.npy\", X_train)\n",
    "np.save(LearningDataPath+\"/y_train.npy\", y_train)\n",
    "np.save(LearningDataPath+\"/X_test.npy\", X_test)\n",
    "np.save(LearningDataPath+\"/y_test.npy\", y_test)\n",
    "np.save(LearningDataPath+\"/train_predict_index.npy\", train_predict_index)\n",
    "np.save(LearningDataPath+\"/test_predict_index.npy\", test_predict_index)"
   ],
   "metadata": {
    "collapsed": false,
    "pycharm": {
     "name": "#%%\n"
    }
   }
  },
  {
   "cell_type": "markdown",
   "source": [
    "## 2. Wytrenowanie klasyfikatora"
   ],
   "metadata": {
    "collapsed": false,
    "pycharm": {
     "name": "#%% md\n"
    }
   }
  },
  {
   "cell_type": "code",
   "execution_count": 188,
   "outputs": [],
   "source": [
    "# Load data\n",
    "X_train = np.load(LearningDataPath+\"/X_train.npy\", allow_pickle=True)\n",
    "y_train = np.load(LearningDataPath+\"/y_train.npy\", allow_pickle=True)\n",
    "X_test = np.load(LearningDataPath+\"/X_test.npy\", allow_pickle=True)\n",
    "y_test = np.load(LearningDataPath+\"/y_test.npy\", allow_pickle=True)"
   ],
   "metadata": {
    "collapsed": false,
    "pycharm": {
     "name": "#%%\n"
    }
   }
  },
  {
   "cell_type": "code",
   "execution_count": 189,
   "outputs": [],
   "source": [
    "input_dim = X_train.shape[1]     # 7\n",
    "input_feature_size = X_train.shape[2]  # 5\n",
    "output_dim = y_train.shape[1]    # 1"
   ],
   "metadata": {
    "collapsed": false,
    "pycharm": {
     "name": "#%%\n"
    }
   }
  },
  {
   "cell_type": "code",
   "execution_count": 190,
   "outputs": [
    {
     "name": "stdout",
     "output_type": "stream",
     "text": [
      "2\n"
     ]
    }
   ],
   "source": [
    "print(output_dim)"
   ],
   "metadata": {
    "collapsed": false,
    "pycharm": {
     "name": "#%%\n"
    }
   }
  },
  {
   "cell_type": "code",
   "execution_count": 191,
   "outputs": [
    {
     "data": {
      "text/plain": "array([[1., 0.],\n       [1., 0.],\n       [1., 0.],\n       ...,\n       [1., 0.],\n       [1., 0.],\n       [1., 0.]], dtype=float32)"
     },
     "execution_count": 191,
     "metadata": {},
     "output_type": "execute_result"
    }
   ],
   "source": [
    "y_train"
   ],
   "metadata": {
    "collapsed": false,
    "pycharm": {
     "name": "#%%\n"
    }
   }
  },
  {
   "cell_type": "code",
   "execution_count": 192,
   "outputs": [],
   "source": [
    "def basic_GRU(input_dim, output_dim, input_feature_size):\n",
    "    model = models.Sequential()\n",
    "    model.add(GRU(units=63, return_sequences=True, activation='relu', input_shape=(input_dim, input_feature_size)))\n",
    "    model.add(Dropout(0.2))\n",
    "    model.add(GRU(units=250, return_sequences=False))\n",
    "    model.add(Dense(output_dim, activation='softmax'))\n",
    "\n",
    "    model.compile(optimizer='adam',\n",
    "              loss='categorical_crossentropy',\n",
    "              metrics=['accuracy'])\n",
    "    history = model.fit(X_train, y_train, epochs=N_EPOCH, batch_size=BATCH_SIZE, verbose=2, shuffle=False)\n",
    "\n",
    "    return model, history"
   ],
   "metadata": {
    "collapsed": false,
    "pycharm": {
     "name": "#%%\n"
    }
   }
  },
  {
   "cell_type": "code",
   "execution_count": 193,
   "outputs": [],
   "source": [
    "def basic_LSTM(input_dim, output_dim, input_feature_size):\n",
    "    model = models.Sequential()\n",
    "    model.add(LSTM(units=64, return_sequences=True, input_shape=(input_dim, input_feature_size)))\n",
    "    model.add(LSTM(units=32))\n",
    "    model.add(Dropout(0.2))\n",
    "    model.add(Dense(output_dim, activation='softmax'))\n",
    "\n",
    "    model.compile(optimizer='adam',\n",
    "              loss='categorical_crossentropy',\n",
    "              metrics=['accuracy'])\n",
    "    history = model.fit(X_train, y_train, epochs=N_EPOCH, batch_size=BATCH_SIZE, verbose=2, shuffle=False)\n",
    "\n",
    "    return model, history"
   ],
   "metadata": {
    "collapsed": false,
    "pycharm": {
     "name": "#%%\n"
    }
   }
  },
  {
   "cell_type": "code",
   "execution_count": 194,
   "outputs": [],
   "source": [
    "## 61.92% ###\n",
    "\n",
    "# def basic_LSTM(input_dim, output_dim, input_feature_size):\n",
    "#     model = models.Sequential()\n",
    "#     model.add(LSTM(units=63, return_sequences=True, activation='relu', input_shape=(input_dim, input_feature_size)))\n",
    "#     model.add(Dropout(0.2))\n",
    "#     model.add(LSTM(250, return_sequences=False))\n",
    "#     model.add(Dropout(0.2))\n",
    "#     model.add(Dense(output_dim, activation='softmax'))\n",
    "#\n",
    "#     model.compile(optimizer='adam',\n",
    "#               loss='categorical_crossentropy',\n",
    "#               metrics=['accuracy'])\n",
    "#     history = model.fit(X_train, y_train, epochs=N_EPOCH, batch_size=BATCH_SIZE, verbose=2, shuffle=False)\n",
    "#\n",
    "#     return model, history"
   ],
   "metadata": {
    "collapsed": false,
    "pycharm": {
     "name": "#%%\n"
    }
   }
  },
  {
   "cell_type": "code",
   "execution_count": 195,
   "outputs": [],
   "source": [
    "# def basic_LSTM(input_dim, output_dim, input_feature_size):\n",
    "#     model = models.Sequential()\n",
    "#     model.add(LSTM(units=50, return_sequences=True, input_shape=(input_dim, input_feature_size)))\n",
    "#     # model.add(Dropout(0.20))\n",
    "#     model.add(LSTM(40, return_sequences=False))\n",
    "#     model.add(Dropout(0.20))\n",
    "#     model.add(Dense(output_dim, activation='softmax'))\n",
    "#\n",
    "#     model.compile(optimizer='adam',\n",
    "#               loss='categorical_crossentropy',\n",
    "#               metrics=['accuracy'])\n",
    "#     history = model.fit(X_train, y_train, epochs=N_EPOCH, batch_size=BATCH_SIZE, verbose=2, shuffle=False)\n",
    "#\n",
    "#     return model, history"
   ],
   "metadata": {
    "collapsed": false,
    "pycharm": {
     "name": "#%%\n"
    }
   }
  },
  {
   "cell_type": "code",
   "execution_count": 196,
   "outputs": [
    {
     "name": "stdout",
     "output_type": "stream",
     "text": [
      "Epoch 1/30\n",
      "28/28 - 4s - loss: 0.6898 - accuracy: 0.5441 - 4s/epoch - 155ms/step\n",
      "Epoch 2/30\n",
      "28/28 - 0s - loss: 0.6822 - accuracy: 0.5516 - 278ms/epoch - 10ms/step\n",
      "Epoch 3/30\n",
      "28/28 - 0s - loss: 0.6770 - accuracy: 0.5659 - 303ms/epoch - 11ms/step\n",
      "Epoch 4/30\n",
      "28/28 - 0s - loss: 0.6709 - accuracy: 0.5774 - 308ms/epoch - 11ms/step\n",
      "Epoch 5/30\n",
      "28/28 - 0s - loss: 0.6638 - accuracy: 0.6004 - 324ms/epoch - 12ms/step\n",
      "Epoch 6/30\n",
      "28/28 - 0s - loss: 0.6559 - accuracy: 0.6158 - 302ms/epoch - 11ms/step\n",
      "Epoch 7/30\n",
      "28/28 - 0s - loss: 0.6485 - accuracy: 0.6233 - 325ms/epoch - 12ms/step\n",
      "Epoch 8/30\n",
      "28/28 - 0s - loss: 0.6433 - accuracy: 0.6258 - 278ms/epoch - 10ms/step\n",
      "Epoch 9/30\n",
      "28/28 - 0s - loss: 0.6359 - accuracy: 0.6419 - 274ms/epoch - 10ms/step\n",
      "Epoch 10/30\n",
      "28/28 - 0s - loss: 0.6316 - accuracy: 0.6466 - 273ms/epoch - 10ms/step\n",
      "Epoch 11/30\n",
      "28/28 - 0s - loss: 0.6284 - accuracy: 0.6509 - 285ms/epoch - 10ms/step\n",
      "Epoch 12/30\n",
      "28/28 - 0s - loss: 0.6226 - accuracy: 0.6631 - 289ms/epoch - 10ms/step\n",
      "Epoch 13/30\n",
      "28/28 - 0s - loss: 0.6208 - accuracy: 0.6649 - 335ms/epoch - 12ms/step\n",
      "Epoch 14/30\n",
      "28/28 - 0s - loss: 0.6167 - accuracy: 0.6717 - 277ms/epoch - 10ms/step\n",
      "Epoch 15/30\n",
      "28/28 - 0s - loss: 0.6141 - accuracy: 0.6746 - 282ms/epoch - 10ms/step\n",
      "Epoch 16/30\n",
      "28/28 - 0s - loss: 0.6114 - accuracy: 0.6760 - 285ms/epoch - 10ms/step\n",
      "Epoch 17/30\n",
      "28/28 - 0s - loss: 0.6116 - accuracy: 0.6785 - 280ms/epoch - 10ms/step\n",
      "Epoch 18/30\n",
      "28/28 - 0s - loss: 0.6086 - accuracy: 0.6821 - 290ms/epoch - 10ms/step\n",
      "Epoch 19/30\n",
      "28/28 - 0s - loss: 0.6074 - accuracy: 0.6857 - 334ms/epoch - 12ms/step\n",
      "Epoch 20/30\n",
      "28/28 - 0s - loss: 0.6071 - accuracy: 0.6832 - 282ms/epoch - 10ms/step\n",
      "Epoch 21/30\n",
      "28/28 - 0s - loss: 0.6032 - accuracy: 0.6878 - 301ms/epoch - 11ms/step\n",
      "Epoch 22/30\n",
      "28/28 - 0s - loss: 0.6035 - accuracy: 0.6789 - 323ms/epoch - 12ms/step\n",
      "Epoch 23/30\n",
      "28/28 - 0s - loss: 0.6012 - accuracy: 0.6853 - 309ms/epoch - 11ms/step\n",
      "Epoch 24/30\n",
      "28/28 - 0s - loss: 0.6021 - accuracy: 0.6857 - 311ms/epoch - 11ms/step\n",
      "Epoch 25/30\n",
      "28/28 - 0s - loss: 0.6013 - accuracy: 0.6932 - 303ms/epoch - 11ms/step\n",
      "Epoch 26/30\n",
      "28/28 - 0s - loss: 0.6088 - accuracy: 0.6738 - 280ms/epoch - 10ms/step\n",
      "Epoch 27/30\n",
      "28/28 - 0s - loss: 0.6118 - accuracy: 0.6796 - 392ms/epoch - 14ms/step\n",
      "Epoch 28/30\n",
      "28/28 - 0s - loss: 0.6013 - accuracy: 0.6860 - 325ms/epoch - 12ms/step\n",
      "Epoch 29/30\n",
      "28/28 - 0s - loss: 0.5964 - accuracy: 0.6978 - 279ms/epoch - 10ms/step\n",
      "Epoch 30/30\n",
      "28/28 - 0s - loss: 0.5964 - accuracy: 0.6910 - 315ms/epoch - 11ms/step\n",
      "Model: \"sequential_4\"\n",
      "_________________________________________________________________\n",
      " Layer (type)                Output Shape              Param #   \n",
      "=================================================================\n",
      " lstm_8 (LSTM)               (None, 10, 64)            18944     \n",
      "                                                                 \n",
      " lstm_9 (LSTM)               (None, 32)                12416     \n",
      "                                                                 \n",
      " dropout_4 (Dropout)         (None, 32)                0         \n",
      "                                                                 \n",
      " dense_4 (Dense)             (None, 2)                 66        \n",
      "                                                                 \n",
      "=================================================================\n",
      "Total params: 31,426\n",
      "Trainable params: 31,426\n",
      "Non-trainable params: 0\n",
      "_________________________________________________________________\n",
      "None\n"
     ]
    }
   ],
   "source": [
    "# model, history = basic_GRU(input_dim, output_dim, input_feature_size)\n",
    "model, history = basic_LSTM(input_dim, output_dim, input_feature_size)\n",
    "print(model.summary())"
   ],
   "metadata": {
    "collapsed": false,
    "pycharm": {
     "name": "#%%\n"
    }
   }
  },
  {
   "cell_type": "code",
   "execution_count": 197,
   "outputs": [
    {
     "name": "stdout",
     "output_type": "stream",
     "text": [
      "10/10 [==============================] - 1s 5ms/step - loss: 0.5858 - accuracy: 0.7115\n",
      "Test loss: 0.5857523679733276\n",
      "Test accuracy: 0.7115384340286255\n"
     ]
    }
   ],
   "source": [
    "score = model.evaluate(X_test, y_test)\n",
    "print('Test loss:', score[0])\n",
    "print('Test accuracy:', score[1])"
   ],
   "metadata": {
    "collapsed": false,
    "pycharm": {
     "name": "#%%\n"
    }
   }
  },
  {
   "cell_type": "code",
   "execution_count": 202,
   "outputs": [],
   "source": [
    "# classificatorName = 'Classificator{:.0f}.h5'.format(score[1]*100)\n",
    "# model.save('Models/'+classificatorName)\n",
    "model.save(LearningDataPath+\"/Classification10Days.h5\")\n",
    "model.save(LearningDataPath+\"/Classification10Days\"+str(round(score[1]*100))+\"p.h5\")"
   ],
   "metadata": {
    "collapsed": false,
    "pycharm": {
     "name": "#%%\n"
    }
   }
  },
  {
   "cell_type": "code",
   "execution_count": null,
   "outputs": [],
   "source": [],
   "metadata": {
    "collapsed": false,
    "pycharm": {
     "name": "#%%\n"
    }
   }
  }
 ],
 "metadata": {
  "kernelspec": {
   "display_name": "Python 3",
   "language": "python",
   "name": "python3"
  },
  "language_info": {
   "codemirror_mode": {
    "name": "ipython",
    "version": 2
   },
   "file_extension": ".py",
   "mimetype": "text/x-python",
   "name": "python",
   "nbconvert_exporter": "python",
   "pygments_lexer": "ipython2",
   "version": "2.7.6"
  }
 },
 "nbformat": 4,
 "nbformat_minor": 0
}